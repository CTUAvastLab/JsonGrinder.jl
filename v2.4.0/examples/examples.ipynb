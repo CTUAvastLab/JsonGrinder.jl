{
 "cells": [
  {
   "cell_type": "markdown",
   "source": [
    "# Examples Overview\n",
    "\n",
    "The documentation also contains 5 examples demonstrating different showcases:\n",
    "- Mutagenesis Example\n",
    "- [Mutagenesis Python Example](https://nbviewer.jupyter.org/github/CTUAvastLab/JsonGrinder.jl/blob/gh-pages/v2.4.0/examples/mutagenesis_python.ipynb)\n",
    "- Recipe Ingredients Example\n",
    "- Schema Examination\n",
    "- Schema Visualization\n",
    "\n",
    "They demonstrate various usages of JsonGrinder.jl and Mill.jl and how to use them with other packages\n",
    "from Julia ecosystem, e.g. [Flux.jl](https://fluxml.ai/) and [Zygote.jl](https://github.com/FluxML/Zygote.jl).\n",
    "\n",
    "All example are also available as jupyter notebooks,\n",
    "link to the jupyter notebook can be found in the beginning of each example.\n",
    "Feel free to download them and run them yourself, they are self-contained and install all necessary dependencies.\n",
    "\n",
    "There is also separate repository [CTUAvastLab/JsonGrinderExamples](https://github.com/CTUAvastLab/JsonGrinderExamples)\n",
    "containing even more real-world examples. Namely these:\n",
    "- [Malware classification on Ember Dataset](https://github.com/CTUAvastLab/JsonGrinderExamples/tree/main/ember)\n",
    "- [Device identification based on network traffic](https://github.com/CTUAvastLab/JsonGrinderExamples/tree/main/deviceid)\n",
    "- [Tuned version of Mutagenesis for better performance](https://github.com/CTUAvastLab/JsonGrinderExamples/blob/main/mutagenesis/tuned.jl)"
   ],
   "metadata": {}
  },
  {
   "cell_type": "markdown",
   "source": [
    "---\n",
    "\n",
    "*This notebook was generated using [Literate.jl](https://github.com/fredrikekre/Literate.jl).*"
   ],
   "metadata": {}
  }
 ],
 "nbformat_minor": 3,
 "metadata": {
  "language_info": {
   "file_extension": ".jl",
   "mimetype": "application/julia",
   "name": "julia",
   "version": "1.9.2"
  },
  "kernelspec": {
   "name": "julia-1.9",
   "display_name": "Julia 1.9.2",
   "language": "julia"
  }
 },
 "nbformat": 4
}
