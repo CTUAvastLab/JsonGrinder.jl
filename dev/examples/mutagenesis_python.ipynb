{
 "cells": [
  {
   "cell_type": "markdown",
   "metadata": {},
   "source": [
    "# Mutagenesis Example in Python\n",
    "\n",
    "Following example is the same as the julia version of the \n",
    "Following example demonstrates learning to predict the mutagenicity on Salmonella typhimurium using the [JuliaPy/pyjulia](https://github.com/JuliaPy/pyjulia), and demonstrates how can the JsonGrinder.jl be used entirely from python.\n",
    "\n",
    "We start by installing the pyjulia and use it to install the JsonGrinder and few other packages we need for the example."
   ]
  },
  {
   "cell_type": "code",
   "execution_count": 2,
   "metadata": {},
   "outputs": [
    {
     "name": "stdout",
     "output_type": "stream",
     "text": [
      "Requirement already satisfied: julia in /opt/conda/lib/python3.9/site-packages (0.5.7)\r\n"
     ]
    }
   ],
   "source": [
    "!pip install julia"
   ]
  },
  {
   "cell_type": "code",
   "execution_count": 3,
   "metadata": {},
   "outputs": [
    {
     "data": {
      "text/plain": [
       "'3.9.10 | packaged by conda-forge | (main, Feb  1 2022, 21:24:11) \\n[GCC 9.4.0]'"
      ]
     },
     "execution_count": 3,
     "metadata": {},
     "output_type": "execute_result"
    }
   ],
   "source": [
    "import sys\n",
    "sys.version"
   ]
  },
  {
   "cell_type": "code",
   "execution_count": 4,
   "metadata": {},
   "outputs": [],
   "source": [
    "import julia"
   ]
  },
  {
   "cell_type": "code",
   "execution_count": 5,
   "metadata": {},
   "outputs": [
    {
     "name": "stderr",
     "output_type": "stream",
     "text": [
      "[ Info: Julia version info\n"
     ]
    },
    {
     "name": "stdout",
     "output_type": "stream",
     "text": [
      "Julia Version 1.7.2\n",
      "Commit bf53498635 (2022-02-06 15:21 UTC)\n",
      "Platform Info:\n",
      "  OS: Linux (x86_64-pc-linux-gnu)\n",
      "  uname: Linux 5.10.16.3-microsoft-standard-WSL2 #1 SMP Fri Apr 2 22:23:49 UTC 2021 x86_64 x86_64\n",
      "  CPU: Intel(R) Core(TM) i7-9850H CPU @ 2.60GHz: \n",
      "              speed         user         nice          sys         idle          irq\n",
      "       #1  2592 MHz     195979 s       1237 s     173734 s    7772796 s          0 s\n",
      "       #2  2592 MHz     258408 s       1058 s     168196 s    7744576 s          0 s\n",
      "       \n",
      "  Memory: 1.9366111755371094 GB (62.88671875 MB free)\n",
      "  Uptime: 871679.82 sec\n",
      "  Load Avg:  33.92  57.72  34.75\n",
      "  WORD_SIZE: 64\n",
      "  LIBM: libopenlibm\n",
      "  LLVM: libLLVM-12.0.1 (ORCJIT, skylake)\n",
      "Environment:\n",
      "  JULIA_DEPOT_PATH = /opt/julia\n",
      "  JULIA_PKGDIR = /opt/julia\n",
      "  JULIA_VERSION = 1.7.2\n",
      "  PATH = /opt/conda/bin:/usr/local/sbin:/usr/local/bin:/usr/sbin:/usr/bin:/sbin:/bin\n",
      "  TERM = xterm-color\n",
      "  HOME = /home/jovyan\n",
      "  XDG_CACHE_HOME = /home/jovyan/.cache/\n",
      "  JULIA_DEPOT_PATH = /opt/julia\n"
     ]
    },
    {
     "name": "stderr",
     "output_type": "stream",
     "text": [
      "[ Info: Julia executable: /opt/julia-1.7.2/bin/julia\n",
      "[ Info: Trying to import PyCall...\n",
      "┌ Info: PyCall is already installed and compatible with Python executable.\n",
      "│ \n",
      "│ PyCall:\n",
      "│     python: /opt/conda/bin/python\n",
      "│     libpython: /opt/conda/lib/libpython3.9.so.1.0\n",
      "│ Python:\n",
      "│     python: /opt/conda/bin/python\n",
      "└     libpython: \n"
     ]
    }
   ],
   "source": [
    "julia.install()"
   ]
  },
  {
   "cell_type": "code",
   "execution_count": 6,
   "metadata": {},
   "outputs": [
    {
     "name": "stderr",
     "output_type": "stream",
     "text": [
      "/opt/conda/lib/python3.9/site-packages/julia/core.py:703: FutureWarning: Accessing `Julia().<name>` to obtain Julia objects is deprecated.  Use `from julia import Main; Main.<name>` or `jl = Julia(); jl.eval('<name>')`.\n",
      "  warnings.warn(\n"
     ]
    },
    {
     "data": {
      "text/plain": [
       "<julia.core.LegacyJulia at 0x7f38e079e0a0>"
      ]
     },
     "execution_count": 6,
     "metadata": {},
     "output_type": "execute_result"
    }
   ],
   "source": [
    "from julia import Julia\n",
    "Julia(compiled_modules=False)\n",
    "#Julia(runtime='C:\\\\Users\\\\racinsky\\\\AppData\\\\Local\\\\Programs\\\\Julia-1.7.2\\\\bin\\\\julia.exe')"
   ]
  },
  {
   "cell_type": "code",
   "execution_count": 7,
   "metadata": {},
   "outputs": [
    {
     "data": {
      "text/plain": [
       "<PyCall.jlwrap 1.7.2>"
      ]
     },
     "execution_count": 7,
     "metadata": {},
     "output_type": "execute_result"
    }
   ],
   "source": [
    "from julia import Base\n",
    "Base.VERSION"
   ]
  },
  {
   "cell_type": "markdown",
   "metadata": {},
   "source": [
    "We install the packages using the julia package manager called from python\n",
    "\n",
    "Executing the following line may take few minutes, because the package manager needs to resolve proper versions."
   ]
  },
  {
   "cell_type": "code",
   "execution_count": null,
   "metadata": {
    "scrolled": true
   },
   "outputs": [],
   "source": [
    "from julia import Pkg\n",
    "Pkg.add(\"MLDatasets\")\n",
    "Pkg.add(\"Flux\")\n",
    "Pkg.add(\"Mill\")\n",
    "Pkg.add(\"MLDataPattern\")\n",
    "Pkg.add(\"Statistics\")\n",
    "Pkg.add(name=\"JsonGrinder\", rev=\"master\")\n"
   ]
  },
  {
   "cell_type": "markdown",
   "metadata": {},
   "source": [
    "Here we include libraries all necessary libraries\n",
    "\n",
    "Executing the following cell may take few minutes to finish, which is expected, because there is lots of code being precompiled."
   ]
  },
  {
   "cell_type": "code",
   "execution_count": null,
   "metadata": {},
   "outputs": [],
   "source": [
    "from julia import JsonGrinder, MLDatasets, Flux, Mill, MLDataPattern, Statistics"
   ]
  },
  {
   "cell_type": "markdown",
   "metadata": {},
   "source": [
    "Here we load all samples.\n",
    "\n",
    "In order to download datasets automatically from jupyter notebook, make sure the environment variable `DATADEPS_ALWAYS_ACCEPT` is present and set to true. E.g. using this if you run the notebook from docker compose\n",
    "```\n",
    "services:\n",
    "  ...\n",
    "    environment:\n",
    "      - DATADEPS_ALWAYS_ACCEPT=true\n",
    "```\n"
   ]
  },
  {
   "cell_type": "code",
   "execution_count": 10,
   "metadata": {},
   "outputs": [],
   "source": [
    "train_x, train_y = MLDatasets.Mutagenesis.traindata();\n",
    "test_x, test_y = MLDatasets.Mutagenesis.testdata();"
   ]
  },
  {
   "cell_type": "markdown",
   "metadata": {},
   "source": [
    "We define some basic parameters for the construction and training of the neural network. Minibatch size is self-explanatory, iterations is number of iterations of gradient descent Neurons is number of neurons in hidden layers for each version of part of the neural network."
   ]
  },
  {
   "cell_type": "code",
   "execution_count": 11,
   "metadata": {},
   "outputs": [],
   "source": [
    "minibatchsize = 100\n",
    "iterations = 5_000\n",
    "neurons = 20"
   ]
  },
  {
   "cell_type": "markdown",
   "metadata": {},
   "source": [
    "We create the schema of the training data, which is the first important step in using the JsonGrinder. This computes both the structure (also known as JSON schema) and histogram of occurrences of individual values in the training data."
   ]
  },
  {
   "cell_type": "code",
   "execution_count": 12,
   "metadata": {},
   "outputs": [
    {
     "data": {
      "text/plain": [
       "<PyCall.jlwrap DictEntry>"
      ]
     },
     "execution_count": 12,
     "metadata": {},
     "output_type": "execute_result"
    }
   ],
   "source": [
    "sch = JsonGrinder.schema(train_x)\n",
    "sch"
   ]
  },
  {
   "cell_type": "markdown",
   "metadata": {},
   "source": [
    "Then we use it to create the extractor converting jsons to Mill structures. The suggestextractor is executed below with default setting, but it allows you heavy customization. We also prepare list of classes. This classification problem is two-class, but we want to infer it from labels."
   ]
  },
  {
   "cell_type": "code",
   "execution_count": null,
   "metadata": {},
   "outputs": [],
   "source": [
    "extractor = JsonGrinder.suggestextractor(sch)\n",
    "labelnames = Base.unique(train_y)"
   ]
  },
  {
   "cell_type": "markdown",
   "metadata": {},
   "source": [
    "# Create the model\n",
    "We create the model reflecting structure of the data"
   ]
  },
  {
   "cell_type": "code",
   "execution_count": null,
   "metadata": {},
   "outputs": [],
   "source": [
    "model = Mill.reflectinmodel(sch, extractor,\n",
    "    lambda layer: Flux.Dense(layer, neurons, Flux.relu),\n",
    "    lambda bag: Mill.SegmentedMeanMax(bag),\n",
    "    fsm = {\"\": lambda layer: Flux.Dense(layer, Base.length(labelnames))},\n",
    ")\n",
    "model"
   ]
  },
  {
   "cell_type": "markdown",
   "metadata": {},
   "source": [
    "We convert jsons to mill data samples and prepare list of classes. This classification problem is two-class, but we want to infer it from labels. The extractor is callable, so we can pass it vector of samples to obtain vector of structures with extracted features."
   ]
  },
  {
   "cell_type": "code",
   "execution_count": null,
   "metadata": {},
   "outputs": [],
   "source": [
    "train_data = list(map(extractor, train_x))\n",
    "test_data = list(map(extractor, test_x))\n",
    "test_data"
   ]
  },
  {
   "cell_type": "markdown",
   "metadata": {},
   "source": [
    "# Train the model\n",
    "Then, we define few handy functions and a loss function, which is categorical crossentropy in our case."
   ]
  },
  {
   "cell_type": "code",
   "execution_count": 64,
   "metadata": {},
   "outputs": [],
   "source": [
    "def inference(x): return model(x).data\n",
    "def loss(x,y): return Flux.logitcrossentropy(inference(x), Flux.onehotbatch(y, labelnames))\n",
    "def accuracy(x,y): return mean(labelnames[Flux.onecold(inference(x))] == y)"
   ]
  },
  {
   "cell_type": "markdown",
   "metadata": {},
   "source": [
    "And we can add a callback which will be printing train and test accuracy during the training and then we can start trining"
   ]
  },
  {
   "cell_type": "code",
   "execution_count": 65,
   "metadata": {},
   "outputs": [],
   "source": [
    "def cb():\n",
    "    train_acc = accuracy(train_data, train_y)\n",
    "    test_acc = accuracy(test_data, test_y)\n",
    "    println(\"accuracy: train = $train_acc, test = $test_acc\")"
   ]
  },
  {
   "cell_type": "markdown",
   "metadata": {},
   "source": [
    "Lastly we turn our training data to minibatches, and we can start training"
   ]
  },
  {
   "cell_type": "code",
   "execution_count": 66,
   "metadata": {},
   "outputs": [],
   "source": [
    "minibatches = MLDataPattern.RandomBatches((train_data, train_y), size = minibatchsize, count = iterations)"
   ]
  },
  {
   "cell_type": "code",
   "execution_count": 67,
   "metadata": {},
   "outputs": [
    {
     "data": {
      "text/plain": [
       "([<PyCall.jlwrap ProductNode>,\n",
       "  <PyCall.jlwrap ProductNode>,\n",
       "  <PyCall.jlwrap ProductNode>,\n",
       "  <PyCall.jlwrap ProductNode>,\n",
       "  <PyCall.jlwrap ProductNode>,\n",
       "  <PyCall.jlwrap ProductNode>,\n",
       "  <PyCall.jlwrap ProductNode>,\n",
       "  <PyCall.jlwrap ProductNode>,\n",
       "  <PyCall.jlwrap ProductNode>,\n",
       "  <PyCall.jlwrap ProductNode>,\n",
       "  <PyCall.jlwrap ProductNode>,\n",
       "  <PyCall.jlwrap ProductNode>,\n",
       "  <PyCall.jlwrap ProductNode>,\n",
       "  <PyCall.jlwrap ProductNode>,\n",
       "  <PyCall.jlwrap ProductNode>,\n",
       "  <PyCall.jlwrap ProductNode>,\n",
       "  <PyCall.jlwrap ProductNode>,\n",
       "  <PyCall.jlwrap ProductNode>,\n",
       "  <PyCall.jlwrap ProductNode>,\n",
       "  <PyCall.jlwrap ProductNode>,\n",
       "  <PyCall.jlwrap ProductNode>,\n",
       "  <PyCall.jlwrap ProductNode>,\n",
       "  <PyCall.jlwrap ProductNode>,\n",
       "  <PyCall.jlwrap ProductNode>,\n",
       "  <PyCall.jlwrap ProductNode>,\n",
       "  <PyCall.jlwrap ProductNode>,\n",
       "  <PyCall.jlwrap ProductNode>,\n",
       "  <PyCall.jlwrap ProductNode>,\n",
       "  <PyCall.jlwrap ProductNode>,\n",
       "  <PyCall.jlwrap ProductNode>,\n",
       "  <PyCall.jlwrap ProductNode>,\n",
       "  <PyCall.jlwrap ProductNode>,\n",
       "  <PyCall.jlwrap ProductNode>,\n",
       "  <PyCall.jlwrap ProductNode>,\n",
       "  <PyCall.jlwrap ProductNode>,\n",
       "  <PyCall.jlwrap ProductNode>,\n",
       "  <PyCall.jlwrap ProductNode>,\n",
       "  <PyCall.jlwrap ProductNode>,\n",
       "  <PyCall.jlwrap ProductNode>,\n",
       "  <PyCall.jlwrap ProductNode>,\n",
       "  <PyCall.jlwrap ProductNode>,\n",
       "  <PyCall.jlwrap ProductNode>,\n",
       "  <PyCall.jlwrap ProductNode>,\n",
       "  <PyCall.jlwrap ProductNode>,\n",
       "  <PyCall.jlwrap ProductNode>,\n",
       "  <PyCall.jlwrap ProductNode>,\n",
       "  <PyCall.jlwrap ProductNode>,\n",
       "  <PyCall.jlwrap ProductNode>,\n",
       "  <PyCall.jlwrap ProductNode>,\n",
       "  <PyCall.jlwrap ProductNode>,\n",
       "  <PyCall.jlwrap ProductNode>,\n",
       "  <PyCall.jlwrap ProductNode>,\n",
       "  <PyCall.jlwrap ProductNode>,\n",
       "  <PyCall.jlwrap ProductNode>,\n",
       "  <PyCall.jlwrap ProductNode>,\n",
       "  <PyCall.jlwrap ProductNode>,\n",
       "  <PyCall.jlwrap ProductNode>,\n",
       "  <PyCall.jlwrap ProductNode>,\n",
       "  <PyCall.jlwrap ProductNode>,\n",
       "  <PyCall.jlwrap ProductNode>,\n",
       "  <PyCall.jlwrap ProductNode>,\n",
       "  <PyCall.jlwrap ProductNode>,\n",
       "  <PyCall.jlwrap ProductNode>,\n",
       "  <PyCall.jlwrap ProductNode>,\n",
       "  <PyCall.jlwrap ProductNode>,\n",
       "  <PyCall.jlwrap ProductNode>,\n",
       "  <PyCall.jlwrap ProductNode>,\n",
       "  <PyCall.jlwrap ProductNode>,\n",
       "  <PyCall.jlwrap ProductNode>,\n",
       "  <PyCall.jlwrap ProductNode>,\n",
       "  <PyCall.jlwrap ProductNode>,\n",
       "  <PyCall.jlwrap ProductNode>,\n",
       "  <PyCall.jlwrap ProductNode>,\n",
       "  <PyCall.jlwrap ProductNode>,\n",
       "  <PyCall.jlwrap ProductNode>,\n",
       "  <PyCall.jlwrap ProductNode>,\n",
       "  <PyCall.jlwrap ProductNode>,\n",
       "  <PyCall.jlwrap ProductNode>,\n",
       "  <PyCall.jlwrap ProductNode>,\n",
       "  <PyCall.jlwrap ProductNode>,\n",
       "  <PyCall.jlwrap ProductNode>,\n",
       "  <PyCall.jlwrap ProductNode>,\n",
       "  <PyCall.jlwrap ProductNode>,\n",
       "  <PyCall.jlwrap ProductNode>,\n",
       "  <PyCall.jlwrap ProductNode>,\n",
       "  <PyCall.jlwrap ProductNode>,\n",
       "  <PyCall.jlwrap ProductNode>,\n",
       "  <PyCall.jlwrap ProductNode>,\n",
       "  <PyCall.jlwrap ProductNode>,\n",
       "  <PyCall.jlwrap ProductNode>,\n",
       "  <PyCall.jlwrap ProductNode>,\n",
       "  <PyCall.jlwrap ProductNode>,\n",
       "  <PyCall.jlwrap ProductNode>,\n",
       "  <PyCall.jlwrap ProductNode>,\n",
       "  <PyCall.jlwrap ProductNode>,\n",
       "  <PyCall.jlwrap ProductNode>,\n",
       "  <PyCall.jlwrap ProductNode>,\n",
       "  <PyCall.jlwrap ProductNode>,\n",
       "  <PyCall.jlwrap ProductNode>,\n",
       "  <PyCall.jlwrap ProductNode>],\n",
       " [1,\n",
       "  1,\n",
       "  1,\n",
       "  0,\n",
       "  0,\n",
       "  1,\n",
       "  1,\n",
       "  0,\n",
       "  1,\n",
       "  1,\n",
       "  1,\n",
       "  1,\n",
       "  1,\n",
       "  1,\n",
       "  0,\n",
       "  1,\n",
       "  0,\n",
       "  0,\n",
       "  1,\n",
       "  0,\n",
       "  1,\n",
       "  1,\n",
       "  1,\n",
       "  1,\n",
       "  1,\n",
       "  0,\n",
       "  1,\n",
       "  1,\n",
       "  1,\n",
       "  1,\n",
       "  1,\n",
       "  1,\n",
       "  1,\n",
       "  0,\n",
       "  1,\n",
       "  0,\n",
       "  1,\n",
       "  1,\n",
       "  0,\n",
       "  0,\n",
       "  0,\n",
       "  1,\n",
       "  1,\n",
       "  0,\n",
       "  0,\n",
       "  1,\n",
       "  0,\n",
       "  0,\n",
       "  1,\n",
       "  0,\n",
       "  1,\n",
       "  0,\n",
       "  1,\n",
       "  1,\n",
       "  1,\n",
       "  0,\n",
       "  0,\n",
       "  0,\n",
       "  1,\n",
       "  1,\n",
       "  1,\n",
       "  1,\n",
       "  1,\n",
       "  1,\n",
       "  1,\n",
       "  0,\n",
       "  1,\n",
       "  0,\n",
       "  1,\n",
       "  0,\n",
       "  0,\n",
       "  1,\n",
       "  1,\n",
       "  0,\n",
       "  1,\n",
       "  1,\n",
       "  1,\n",
       "  1,\n",
       "  0,\n",
       "  1,\n",
       "  1,\n",
       "  1,\n",
       "  0,\n",
       "  1,\n",
       "  1,\n",
       "  1,\n",
       "  1,\n",
       "  1,\n",
       "  1,\n",
       "  1,\n",
       "  0,\n",
       "  0,\n",
       "  1,\n",
       "  1,\n",
       "  0,\n",
       "  1,\n",
       "  1,\n",
       "  0,\n",
       "  1,\n",
       "  1])"
      ]
     },
     "execution_count": 67,
     "metadata": {},
     "output_type": "execute_result"
    }
   ],
   "source": [
    "ps = Flux.params(model)\n",
    "x, y = Base.first(minibatches)\n",
    "x, y"
   ]
  },
  {
   "cell_type": "code",
   "execution_count": 73,
   "metadata": {},
   "outputs": [
    {
     "data": {
      "text/plain": [
       "0.7206074595451355"
      ]
     },
     "execution_count": 73,
     "metadata": {},
     "output_type": "execute_result"
    }
   ],
   "source": [
    "loss(x, y)"
   ]
  },
  {
   "cell_type": "code",
   "execution_count": 74,
   "metadata": {},
   "outputs": [
    {
     "ename": "RuntimeError",
     "evalue": "<PyCall.jlwrap (in a Julia function called from Python)\nJULIA: Compiling Tuple{typeof(PyCall._pycall!), PyObject, PyObject, Tuple{}, Int64, Ptr{Nothing}}: try/catch is not supported.\nStacktrace:\n  [1] error(s::String)\n    @ Base ./error.jl:33\n  [2] instrument(ir::IRTools.Inner.IR)\n    @ Zygote /opt/julia/packages/Zygote/cCyLF/src/compiler/reverse.jl:121\n  [3] #Primal#20\n    @ /opt/julia/packages/Zygote/cCyLF/src/compiler/reverse.jl:202 [inlined]\n  [4] Zygote.Adjoint(ir::IRTools.Inner.IR; varargs::Nothing, normalise::Bool)\n    @ Zygote /opt/julia/packages/Zygote/cCyLF/src/compiler/reverse.jl:315\n  [5] _generate_pullback_via_decomposition(T::Type)\n    @ Zygote /opt/julia/packages/Zygote/cCyLF/src/compiler/emit.jl:101\n  [6] #s5902#1220\n    @ /opt/julia/packages/Zygote/cCyLF/src/compiler/interface2.jl:28 [inlined]\n  [7] var\"#s5902#1220\"(::Any, ctx::Any, f::Any, args::Any)\n    @ Zygote ./none:0\n  [8] (::Core.GeneratedFunctionStub)(::Any, ::Vararg{Any})\n    @ Core ./boot.jl:580\n  [9] _pullback\n    @ /opt/julia/packages/PyCall/7a7w0/src/pyfncall.jl:11 [inlined]\n [10] _pullback(::Zygote.Context, ::typeof(PyCall._pycall!), ::PyObject, ::PyObject, ::Tuple{}, ::Base.Pairs{Symbol, Union{}, Tuple{}, NamedTuple{(), Tuple{}}})\n    @ Zygote /opt/julia/packages/Zygote/cCyLF/src/compiler/interface2.jl:0\n [11] _pullback\n    @ /opt/julia/packages/PyCall/7a7w0/src/pyfncall.jl:86 [inlined]\n [12] _pullback(::Zygote.Context, ::PyCall.var\"##_#114\", ::Base.Pairs{Symbol, Union{}, Tuple{}, NamedTuple{(), Tuple{}}}, ::PyObject)\n    @ Zygote /opt/julia/packages/Zygote/cCyLF/src/compiler/interface2.jl:0\n [13] _apply\n    @ ./boot.jl:814 [inlined]\n [14] adjoint\n    @ /opt/julia/packages/Zygote/cCyLF/src/lib/lib.jl:200 [inlined]\n [15] _pullback\n    @ /opt/julia/packages/ZygoteRules/AIbCs/src/adjoint.jl:65 [inlined]\n [16] _pullback\n    @ /opt/julia/packages/PyCall/7a7w0/src/pyfncall.jl:86 [inlined]\n [17] _pullback(::Zygote.Context, ::PyObject)\n    @ Zygote /opt/julia/packages/Zygote/cCyLF/src/compiler/interface2.jl:0\n [18] pullback\n    @ /opt/julia/packages/Zygote/cCyLF/src/compiler/interface.jl:352 [inlined]\n [19] gradient(f::PyObject, args::Zygote.Params)\n    @ Zygote /opt/julia/packages/Zygote/cCyLF/src/compiler/interface.jl:75\n [20] invokelatest(::Any, ::Any, ::Vararg{Any}; kwargs::Base.Pairs{Symbol, Union{}, Tuple{}, NamedTuple{(), Tuple{}}})\n    @ Base ./essentials.jl:716\n [21] invokelatest(::Any, ::Any, ::Vararg{Any})\n    @ Base ./essentials.jl:714\n [22] _pyjlwrap_call(f::Function, args_::Ptr{PyCall.PyObject_struct}, kw_::Ptr{PyCall.PyObject_struct})\n    @ PyCall /opt/julia/packages/PyCall/7a7w0/src/callback.jl:28\n [23] pyjlwrap_call(self_::Ptr{PyCall.PyObject_struct}, args_::Ptr{PyCall.PyObject_struct}, kw_::Ptr{PyCall.PyObject_struct})\n    @ PyCall /opt/julia/packages/PyCall/7a7w0/src/callback.jl:44>",
     "output_type": "error",
     "traceback": [
      "\u001B[0;31m---------------------------------------------------------------------------\u001B[0m",
      "\u001B[0;31mRuntimeError\u001B[0m                              Traceback (most recent call last)",
      "Input \u001B[0;32mIn [74]\u001B[0m, in \u001B[0;36m<module>\u001B[0;34m\u001B[0m\n\u001B[0;32m----> 1\u001B[0m gs \u001B[38;5;241m=\u001B[39m \u001B[43mFlux\u001B[49m\u001B[38;5;241;43m.\u001B[39;49m\u001B[43mgradient\u001B[49m\u001B[43m(\u001B[49m\u001B[38;5;28;43;01mlambda\u001B[39;49;00m\u001B[43m:\u001B[49m\u001B[43m \u001B[49m\u001B[43mloss\u001B[49m\u001B[43m(\u001B[49m\u001B[43mx\u001B[49m\u001B[43m,\u001B[49m\u001B[43m \u001B[49m\u001B[43my\u001B[49m\u001B[43m)\u001B[49m\u001B[43m,\u001B[49m\u001B[43m \u001B[49m\u001B[43mps\u001B[49m\u001B[43m)\u001B[49m\n",
      "\u001B[0;31mRuntimeError\u001B[0m: <PyCall.jlwrap (in a Julia function called from Python)\nJULIA: Compiling Tuple{typeof(PyCall._pycall!), PyObject, PyObject, Tuple{}, Int64, Ptr{Nothing}}: try/catch is not supported.\nStacktrace:\n  [1] error(s::String)\n    @ Base ./error.jl:33\n  [2] instrument(ir::IRTools.Inner.IR)\n    @ Zygote /opt/julia/packages/Zygote/cCyLF/src/compiler/reverse.jl:121\n  [3] #Primal#20\n    @ /opt/julia/packages/Zygote/cCyLF/src/compiler/reverse.jl:202 [inlined]\n  [4] Zygote.Adjoint(ir::IRTools.Inner.IR; varargs::Nothing, normalise::Bool)\n    @ Zygote /opt/julia/packages/Zygote/cCyLF/src/compiler/reverse.jl:315\n  [5] _generate_pullback_via_decomposition(T::Type)\n    @ Zygote /opt/julia/packages/Zygote/cCyLF/src/compiler/emit.jl:101\n  [6] #s5902#1220\n    @ /opt/julia/packages/Zygote/cCyLF/src/compiler/interface2.jl:28 [inlined]\n  [7] var\"#s5902#1220\"(::Any, ctx::Any, f::Any, args::Any)\n    @ Zygote ./none:0\n  [8] (::Core.GeneratedFunctionStub)(::Any, ::Vararg{Any})\n    @ Core ./boot.jl:580\n  [9] _pullback\n    @ /opt/julia/packages/PyCall/7a7w0/src/pyfncall.jl:11 [inlined]\n [10] _pullback(::Zygote.Context, ::typeof(PyCall._pycall!), ::PyObject, ::PyObject, ::Tuple{}, ::Base.Pairs{Symbol, Union{}, Tuple{}, NamedTuple{(), Tuple{}}})\n    @ Zygote /opt/julia/packages/Zygote/cCyLF/src/compiler/interface2.jl:0\n [11] _pullback\n    @ /opt/julia/packages/PyCall/7a7w0/src/pyfncall.jl:86 [inlined]\n [12] _pullback(::Zygote.Context, ::PyCall.var\"##_#114\", ::Base.Pairs{Symbol, Union{}, Tuple{}, NamedTuple{(), Tuple{}}}, ::PyObject)\n    @ Zygote /opt/julia/packages/Zygote/cCyLF/src/compiler/interface2.jl:0\n [13] _apply\n    @ ./boot.jl:814 [inlined]\n [14] adjoint\n    @ /opt/julia/packages/Zygote/cCyLF/src/lib/lib.jl:200 [inlined]\n [15] _pullback\n    @ /opt/julia/packages/ZygoteRules/AIbCs/src/adjoint.jl:65 [inlined]\n [16] _pullback\n    @ /opt/julia/packages/PyCall/7a7w0/src/pyfncall.jl:86 [inlined]\n [17] _pullback(::Zygote.Context, ::PyObject)\n    @ Zygote /opt/julia/packages/Zygote/cCyLF/src/compiler/interface2.jl:0\n [18] pullback\n    @ /opt/julia/packages/Zygote/cCyLF/src/compiler/interface.jl:352 [inlined]\n [19] gradient(f::PyObject, args::Zygote.Params)\n    @ Zygote /opt/julia/packages/Zygote/cCyLF/src/compiler/interface.jl:75\n [20] invokelatest(::Any, ::Any, ::Vararg{Any}; kwargs::Base.Pairs{Symbol, Union{}, Tuple{}, NamedTuple{(), Tuple{}}})\n    @ Base ./essentials.jl:716\n [21] invokelatest(::Any, ::Any, ::Vararg{Any})\n    @ Base ./essentials.jl:714\n [22] _pyjlwrap_call(f::Function, args_::Ptr{PyCall.PyObject_struct}, kw_::Ptr{PyCall.PyObject_struct})\n    @ PyCall /opt/julia/packages/PyCall/7a7w0/src/callback.jl:28\n [23] pyjlwrap_call(self_::Ptr{PyCall.PyObject_struct}, args_::Ptr{PyCall.PyObject_struct}, kw_::Ptr{PyCall.PyObject_struct})\n    @ PyCall /opt/julia/packages/PyCall/7a7w0/src/callback.jl:44>"
     ]
    }
   ],
   "source": [
    "gs = Flux.gradient(lambda: loss(x, y), ps)"
   ]
  },
  {
   "cell_type": "code",
   "execution_count": null,
   "metadata": {},
   "outputs": [],
   "source": [
    "gs = Flux.gradient(lambda: Flux.logitcrossentropy(inference(x), Flux.onehotbatch(y, labelnames)), ps)"
   ]
  },
  {
   "cell_type": "code",
   "execution_count": 43,
   "metadata": {},
   "outputs": [
    {
     "ename": "RuntimeError",
     "evalue": "<PyCall.jlwrap (in a Julia function called from Python)\nJULIA: Compiling Tuple{typeof(PyCall._pycall!), PyObject, PyObject, Tuple{SubArray{Mill.ProductNode{NamedTuple{(:lumo, :inda, :logp, :ind1, :atoms), Tuple{Mill.ArrayNode{Flux.OneHotArray{UInt32, 0x00000063, 1, 2, Vector{UInt32}}, Nothing}, Mill.ArrayNode{Flux.OneHotArray{UInt32, 0x00000002, 1, 2, Vector{UInt32}}, Nothing}, Mill.ArrayNode{Flux.OneHotArray{UInt32, 0x0000003f, 1, 2, Vector{UInt32}}, Nothing}, Mill.ArrayNode{Flux.OneHotArray{UInt32, 0x00000003, 1, 2, Vector{UInt32}}, Nothing}, Mill.BagNode{Mill.ProductNode{NamedTuple{(:element, :bonds, :charge, :atom_type), Tuple{Mill.ArrayNode{Flux.OneHotArray{UInt32, 0x00000007, 1, 2, Vector{UInt32}}, Nothing}, Mill.BagNode{Mill.ProductNode{NamedTuple{(:element, :bond_type, :charge, :atom_type), Tuple{Mill.ArrayNode{Flux.OneHotArray{UInt32, 0x00000007, 1, 2, Vector{UInt32}}, Nothing}, Mill.ArrayNode{Flux.OneHotArray{UInt32, 0x00000004, 1, 2, Vector{UInt32}}, Nothing}, Mill.ArrayNode{Matrix{Float32}, Nothing}, Mill.ArrayNode{Flux.OneHotArray{UInt32, 0x0000001d, 1, 2, Vector{UInt32}}, Nothing}}}, Nothing}, Mill.AlignedBags{Int64}, Nothing}, Mill.ArrayNode{Matrix{Float32}, Nothing}, Mill.ArrayNode{Flux.OneHotArray{UInt32, 0x0000001d, 1, 2, Vector{UInt32}}, Nothing}}}, Nothing}, Mill.AlignedBags{Int64}, Nothing}}}, Nothing}, 1, Vector{Mill.ProductNode{NamedTuple{(:lumo, :inda, :logp, :ind1, :atoms), Tuple{Mill.ArrayNode{Flux.OneHotArray{UInt32, 0x00000063, 1, 2, Vector{UInt32}}, Nothing}, Mill.ArrayNode{Flux.OneHotArray{UInt32, 0x00000002, 1, 2, Vector{UInt32}}, Nothing}, Mill.ArrayNode{Flux.OneHotArray{UInt32, 0x0000003f, 1, 2, Vector{UInt32}}, Nothing}, Mill.ArrayNode{Flux.OneHotArray{UInt32, 0x00000003, 1, 2, Vector{UInt32}}, Nothing}, Mill.BagNode{Mill.ProductNode{NamedTuple{(:element, :bonds, :charge, :atom_type), Tuple{Mill.ArrayNode{Flux.OneHotArray{UInt32, 0x00000007, 1, 2, Vector{UInt32}}, Nothing}, Mill.BagNode{Mill.ProductNode{NamedTuple{(:element, :bond_type, :charge, :atom_type), Tuple{Mill.ArrayNode{Flux.OneHotArray{UInt32, 0x00000007, 1, 2, Vector{UInt32}}, Nothing}, Mill.ArrayNode{Flux.OneHotArray{UInt32, 0x00000004, 1, 2, Vector{UInt32}}, Nothing}, Mill.ArrayNode{Matrix{Float32}, Nothing}, Mill.ArrayNode{Flux.OneHotArray{UInt32, 0x0000001d, 1, 2, Vector{UInt32}}, Nothing}}}, Nothing}, Mill.AlignedBags{Int64}, Nothing}, Mill.ArrayNode{Matrix{Float32}, Nothing}, Mill.ArrayNode{Flux.OneHotArray{UInt32, 0x0000001d, 1, 2, Vector{UInt32}}, Nothing}}}, Nothing}, Mill.AlignedBags{Int64}, Nothing}}}, Nothing}}, Tuple{Vector{Int64}}, false}, SubArray{Int64, 1, Vector{Int64}, Tuple{Vector{Int64}}, false}}, Int64, Ptr{Nothing}}: try/catch is not supported.\nStacktrace:\n  [1] error(s::String)\n    @ Base ./error.jl:33\n  [2] instrument(ir::IRTools.Inner.IR)\n    @ Zygote /opt/julia/packages/Zygote/cCyLF/src/compiler/reverse.jl:121\n  [3] #Primal#20\n    @ /opt/julia/packages/Zygote/cCyLF/src/compiler/reverse.jl:202 [inlined]\n  [4] Zygote.Adjoint(ir::IRTools.Inner.IR; varargs::Nothing, normalise::Bool)\n    @ Zygote /opt/julia/packages/Zygote/cCyLF/src/compiler/reverse.jl:315\n  [5] _generate_pullback_via_decomposition(T::Type)\n    @ Zygote /opt/julia/packages/Zygote/cCyLF/src/compiler/emit.jl:101\n  [6] #s5902#1220\n    @ /opt/julia/packages/Zygote/cCyLF/src/compiler/interface2.jl:28 [inlined]\n  [7] var\"#s5902#1220\"(::Any, ctx::Any, f::Any, args::Any)\n    @ Zygote ./none:0\n  [8] (::Core.GeneratedFunctionStub)(::Any, ::Vararg{Any})\n    @ Core ./boot.jl:580\n  [9] _pullback\n    @ /opt/julia/packages/PyCall/7a7w0/src/pyfncall.jl:11 [inlined]\n [10] _pullback(::Zygote.Context, ::typeof(PyCall._pycall!), ::PyObject, ::PyObject, ::Tuple{SubArray{Mill.ProductNode{NamedTuple{(:lumo, :inda, :logp, :ind1, :atoms), Tuple{Mill.ArrayNode{Flux.OneHotArray{UInt32, 0x00000063, 1, 2, Vector{UInt32}}, Nothing}, Mill.ArrayNode{Flux.OneHotArray{UInt32, 0x00000002, 1, 2, Vector{UInt32}}, Nothing}, Mill.ArrayNode{Flux.OneHotArray{UInt32, 0x0000003f, 1, 2, Vector{UInt32}}, Nothing}, Mill.ArrayNode{Flux.OneHotArray{UInt32, 0x00000003, 1, 2, Vector{UInt32}}, Nothing}, Mill.BagNode{Mill.ProductNode{NamedTuple{(:element, :bonds, :charge, :atom_type), Tuple{Mill.ArrayNode{Flux.OneHotArray{UInt32, 0x00000007, 1, 2, Vector{UInt32}}, Nothing}, Mill.BagNode{Mill.ProductNode{NamedTuple{(:element, :bond_type, :charge, :atom_type), Tuple{Mill.ArrayNode{Flux.OneHotArray{UInt32, 0x00000007, 1, 2, Vector{UInt32}}, Nothing}, Mill.ArrayNode{Flux.OneHotArray{UInt32, 0x00000004, 1, 2, Vector{UInt32}}, Nothing}, Mill.ArrayNode{Matrix{Float32}, Nothing}, Mill.ArrayNode{Flux.OneHotArray{UInt32, 0x0000001d, 1, 2, Vector{UInt32}}, Nothing}}}, Nothing}, Mill.AlignedBags{Int64}, Nothing}, Mill.ArrayNode{Matrix{Float32}, Nothing}, Mill.ArrayNode{Flux.OneHotArray{UInt32, 0x0000001d, 1, 2, Vector{UInt32}}, Nothing}}}, Nothing}, Mill.AlignedBags{Int64}, Nothing}}}, Nothing}, 1, Vector{Mill.ProductNode{NamedTuple{(:lumo, :inda, :logp, :ind1, :atoms), Tuple{Mill.ArrayNode{Flux.OneHotArray{UInt32, 0x00000063, 1, 2, Vector{UInt32}}, Nothing}, Mill.ArrayNode{Flux.OneHotArray{UInt32, 0x00000002, 1, 2, Vector{UInt32}}, Nothing}, Mill.ArrayNode{Flux.OneHotArray{UInt32, 0x0000003f, 1, 2, Vector{UInt32}}, Nothing}, Mill.ArrayNode{Flux.OneHotArray{UInt32, 0x00000003, 1, 2, Vector{UInt32}}, Nothing}, Mill.BagNode{Mill.ProductNode{NamedTuple{(:element, :bonds, :charge, :atom_type), Tuple{Mill.ArrayNode{Flux.OneHotArray{UInt32, 0x00000007, 1, 2, Vector{UInt32}}, Nothing}, Mill.BagNode{Mill.ProductNode{NamedTuple{(:element, :bond_type, :charge, :atom_type), Tuple{Mill.ArrayNode{Flux.OneHotArray{UInt32, 0x00000007, 1, 2, Vector{UInt32}}, Nothing}, Mill.ArrayNode{Flux.OneHotArray{UInt32, 0x00000004, 1, 2, Vector{UInt32}}, Nothing}, Mill.ArrayNode{Matrix{Float32}, Nothing}, Mill.ArrayNode{Flux.OneHotArray{UInt32, 0x0000001d, 1, 2, Vector{UInt32}}, Nothing}}}, Nothing}, Mill.AlignedBags{Int64}, Nothing}, Mill.ArrayNode{Matrix{Float32}, Nothing}, Mill.ArrayNode{Flux.OneHotArray{UInt32, 0x0000001d, 1, 2, Vector{UInt32}}, Nothing}}}, Nothing}, Mill.AlignedBags{Int64}, Nothing}}}, Nothing}}, Tuple{Vector{Int64}}, false}, SubArray{Int64, 1, Vector{Int64}, Tuple{Vector{Int64}}, false}}, ::Base.Pairs{Symbol, Union{}, Tuple{}, NamedTuple{(), Tuple{}}})\n    @ Zygote /opt/julia/packages/Zygote/cCyLF/src/compiler/interface2.jl:0\n [11] _pullback\n    @ /opt/julia/packages/PyCall/7a7w0/src/pyfncall.jl:86 [inlined]\n [12] _pullback(::Zygote.Context, ::PyCall.var\"##_#114\", ::Base.Pairs{Symbol, Union{}, Tuple{}, NamedTuple{(), Tuple{}}}, ::PyObject, ::SubArray{Mill.ProductNode{NamedTuple{(:lumo, :inda, :logp, :ind1, :atoms), Tuple{Mill.ArrayNode{Flux.OneHotArray{UInt32, 0x00000063, 1, 2, Vector{UInt32}}, Nothing}, Mill.ArrayNode{Flux.OneHotArray{UInt32, 0x00000002, 1, 2, Vector{UInt32}}, Nothing}, Mill.ArrayNode{Flux.OneHotArray{UInt32, 0x0000003f, 1, 2, Vector{UInt32}}, Nothing}, Mill.ArrayNode{Flux.OneHotArray{UInt32, 0x00000003, 1, 2, Vector{UInt32}}, Nothing}, Mill.BagNode{Mill.ProductNode{NamedTuple{(:element, :bonds, :charge, :atom_type), Tuple{Mill.ArrayNode{Flux.OneHotArray{UInt32, 0x00000007, 1, 2, Vector{UInt32}}, Nothing}, Mill.BagNode{Mill.ProductNode{NamedTuple{(:element, :bond_type, :charge, :atom_type), Tuple{Mill.ArrayNode{Flux.OneHotArray{UInt32, 0x00000007, 1, 2, Vector{UInt32}}, Nothing}, Mill.ArrayNode{Flux.OneHotArray{UInt32, 0x00000004, 1, 2, Vector{UInt32}}, Nothing}, Mill.ArrayNode{Matrix{Float32}, Nothing}, Mill.ArrayNode{Flux.OneHotArray{UInt32, 0x0000001d, 1, 2, Vector{UInt32}}, Nothing}}}, Nothing}, Mill.AlignedBags{Int64}, Nothing}, Mill.ArrayNode{Matrix{Float32}, Nothing}, Mill.ArrayNode{Flux.OneHotArray{UInt32, 0x0000001d, 1, 2, Vector{UInt32}}, Nothing}}}, Nothing}, Mill.AlignedBags{Int64}, Nothing}}}, Nothing}, 1, Vector{Mill.ProductNode{NamedTuple{(:lumo, :inda, :logp, :ind1, :atoms), Tuple{Mill.ArrayNode{Flux.OneHotArray{UInt32, 0x00000063, 1, 2, Vector{UInt32}}, Nothing}, Mill.ArrayNode{Flux.OneHotArray{UInt32, 0x00000002, 1, 2, Vector{UInt32}}, Nothing}, Mill.ArrayNode{Flux.OneHotArray{UInt32, 0x0000003f, 1, 2, Vector{UInt32}}, Nothing}, Mill.ArrayNode{Flux.OneHotArray{UInt32, 0x00000003, 1, 2, Vector{UInt32}}, Nothing}, Mill.BagNode{Mill.ProductNode{NamedTuple{(:element, :bonds, :charge, :atom_type), Tuple{Mill.ArrayNode{Flux.OneHotArray{UInt32, 0x00000007, 1, 2, Vector{UInt32}}, Nothing}, Mill.BagNode{Mill.ProductNode{NamedTuple{(:element, :bond_type, :charge, :atom_type), Tuple{Mill.ArrayNode{Flux.OneHotArray{UInt32, 0x00000007, 1, 2, Vector{UInt32}}, Nothing}, Mill.ArrayNode{Flux.OneHotArray{UInt32, 0x00000004, 1, 2, Vector{UInt32}}, Nothing}, Mill.ArrayNode{Matrix{Float32}, Nothing}, Mill.ArrayNode{Flux.OneHotArray{UInt32, 0x0000001d, 1, 2, Vector{UInt32}}, Nothing}}}, Nothing}, Mill.AlignedBags{Int64}, Nothing}, Mill.ArrayNode{Matrix{Float32}, Nothing}, Mill.ArrayNode{Flux.OneHotArray{UInt32, 0x0000001d, 1, 2, Vector{UInt32}}, Nothing}}}, Nothing}, Mill.AlignedBags{Int64}, Nothing}}}, Nothing}}, Tuple{Vector{Int64}}, false}, ::SubArray{Int64, 1, Vector{Int64}, Tuple{Vector{Int64}}, false})\n    @ Zygote /opt/julia/packages/Zygote/cCyLF/src/compiler/interface2.jl:0\n [13] _apply\n    @ ./boot.jl:814 [inlined]\n [14] adjoint\n    @ /opt/julia/packages/Zygote/cCyLF/src/lib/lib.jl:200 [inlined]\n [15] _pullback\n    @ /opt/julia/packages/ZygoteRules/AIbCs/src/adjoint.jl:65 [inlined]\n [16] _pullback\n    @ /opt/julia/packages/PyCall/7a7w0/src/pyfncall.jl:86 [inlined]\n [17] _pullback(::Zygote.Context, ::PyObject, ::SubArray{Mill.ProductNode{NamedTuple{(:lumo, :inda, :logp, :ind1, :atoms), Tuple{Mill.ArrayNode{Flux.OneHotArray{UInt32, 0x00000063, 1, 2, Vector{UInt32}}, Nothing}, Mill.ArrayNode{Flux.OneHotArray{UInt32, 0x00000002, 1, 2, Vector{UInt32}}, Nothing}, Mill.ArrayNode{Flux.OneHotArray{UInt32, 0x0000003f, 1, 2, Vector{UInt32}}, Nothing}, Mill.ArrayNode{Flux.OneHotArray{UInt32, 0x00000003, 1, 2, Vector{UInt32}}, Nothing}, Mill.BagNode{Mill.ProductNode{NamedTuple{(:element, :bonds, :charge, :atom_type), Tuple{Mill.ArrayNode{Flux.OneHotArray{UInt32, 0x00000007, 1, 2, Vector{UInt32}}, Nothing}, Mill.BagNode{Mill.ProductNode{NamedTuple{(:element, :bond_type, :charge, :atom_type), Tuple{Mill.ArrayNode{Flux.OneHotArray{UInt32, 0x00000007, 1, 2, Vector{UInt32}}, Nothing}, Mill.ArrayNode{Flux.OneHotArray{UInt32, 0x00000004, 1, 2, Vector{UInt32}}, Nothing}, Mill.ArrayNode{Matrix{Float32}, Nothing}, Mill.ArrayNode{Flux.OneHotArray{UInt32, 0x0000001d, 1, 2, Vector{UInt32}}, Nothing}}}, Nothing}, Mill.AlignedBags{Int64}, Nothing}, Mill.ArrayNode{Matrix{Float32}, Nothing}, Mill.ArrayNode{Flux.OneHotArray{UInt32, 0x0000001d, 1, 2, Vector{UInt32}}, Nothing}}}, Nothing}, Mill.AlignedBags{Int64}, Nothing}}}, Nothing}, 1, Vector{Mill.ProductNode{NamedTuple{(:lumo, :inda, :logp, :ind1, :atoms), Tuple{Mill.ArrayNode{Flux.OneHotArray{UInt32, 0x00000063, 1, 2, Vector{UInt32}}, Nothing}, Mill.ArrayNode{Flux.OneHotArray{UInt32, 0x00000002, 1, 2, Vector{UInt32}}, Nothing}, Mill.ArrayNode{Flux.OneHotArray{UInt32, 0x0000003f, 1, 2, Vector{UInt32}}, Nothing}, Mill.ArrayNode{Flux.OneHotArray{UInt32, 0x00000003, 1, 2, Vector{UInt32}}, Nothing}, Mill.BagNode{Mill.ProductNode{NamedTuple{(:element, :bonds, :charge, :atom_type), Tuple{Mill.ArrayNode{Flux.OneHotArray{UInt32, 0x00000007, 1, 2, Vector{UInt32}}, Nothing}, Mill.BagNode{Mill.ProductNode{NamedTuple{(:element, :bond_type, :charge, :atom_type), Tuple{Mill.ArrayNode{Flux.OneHotArray{UInt32, 0x00000007, 1, 2, Vector{UInt32}}, Nothing}, Mill.ArrayNode{Flux.OneHotArray{UInt32, 0x00000004, 1, 2, Vector{UInt32}}, Nothing}, Mill.ArrayNode{Matrix{Float32}, Nothing}, Mill.ArrayNode{Flux.OneHotArray{UInt32, 0x0000001d, 1, 2, Vector{UInt32}}, Nothing}}}, Nothing}, Mill.AlignedBags{Int64}, Nothing}, Mill.ArrayNode{Matrix{Float32}, Nothing}, Mill.ArrayNode{Flux.OneHotArray{UInt32, 0x0000001d, 1, 2, Vector{UInt32}}, Nothing}}}, Nothing}, Mill.AlignedBags{Int64}, Nothing}}}, Nothing}}, Tuple{Vector{Int64}}, false}, ::SubArray{Int64, 1, Vector{Int64}, Tuple{Vector{Int64}}, false})\n    @ Zygote /opt/julia/packages/Zygote/cCyLF/src/compiler/interface2.jl:0\n [18] _apply(::Function, ::Vararg{Any})\n    @ Core ./boot.jl:814\n [19] adjoint\n    @ /opt/julia/packages/Zygote/cCyLF/src/lib/lib.jl:200 [inlined]\n [20] _pullback\n    @ /opt/julia/packages/ZygoteRules/AIbCs/src/adjoint.jl:65 [inlined]\n [21] _pullback\n    @ /opt/julia/packages/Flux/qAdFM/src/optimise/train.jl:110 [inlined]\n [22] _pullback(::Zygote.Context, ::Flux.Optimise.var\"#39#45\"{PyObject, Tuple{SubArray{Mill.ProductNode{NamedTuple{(:lumo, :inda, :logp, :ind1, :atoms), Tuple{Mill.ArrayNode{Flux.OneHotArray{UInt32, 0x00000063, 1, 2, Vector{UInt32}}, Nothing}, Mill.ArrayNode{Flux.OneHotArray{UInt32, 0x00000002, 1, 2, Vector{UInt32}}, Nothing}, Mill.ArrayNode{Flux.OneHotArray{UInt32, 0x0000003f, 1, 2, Vector{UInt32}}, Nothing}, Mill.ArrayNode{Flux.OneHotArray{UInt32, 0x00000003, 1, 2, Vector{UInt32}}, Nothing}, Mill.BagNode{Mill.ProductNode{NamedTuple{(:element, :bonds, :charge, :atom_type), Tuple{Mill.ArrayNode{Flux.OneHotArray{UInt32, 0x00000007, 1, 2, Vector{UInt32}}, Nothing}, Mill.BagNode{Mill.ProductNode{NamedTuple{(:element, :bond_type, :charge, :atom_type), Tuple{Mill.ArrayNode{Flux.OneHotArray{UInt32, 0x00000007, 1, 2, Vector{UInt32}}, Nothing}, Mill.ArrayNode{Flux.OneHotArray{UInt32, 0x00000004, 1, 2, Vector{UInt32}}, Nothing}, Mill.ArrayNode{Matrix{Float32}, Nothing}, Mill.ArrayNode{Flux.OneHotArray{UInt32, 0x0000001d, 1, 2, Vector{UInt32}}, Nothing}}}, Nothing}, Mill.AlignedBags{Int64}, Nothing}, Mill.ArrayNode{Matrix{Float32}, Nothing}, Mill.ArrayNode{Flux.OneHotArray{UInt32, 0x0000001d, 1, 2, Vector{UInt32}}, Nothing}}}, Nothing}, Mill.AlignedBags{Int64}, Nothing}}}, Nothing}, 1, Vector{Mill.ProductNode{NamedTuple{(:lumo, :inda, :logp, :ind1, :atoms), Tuple{Mill.ArrayNode{Flux.OneHotArray{UInt32, 0x00000063, 1, 2, Vector{UInt32}}, Nothing}, Mill.ArrayNode{Flux.OneHotArray{UInt32, 0x00000002, 1, 2, Vector{UInt32}}, Nothing}, Mill.ArrayNode{Flux.OneHotArray{UInt32, 0x0000003f, 1, 2, Vector{UInt32}}, Nothing}, Mill.ArrayNode{Flux.OneHotArray{UInt32, 0x00000003, 1, 2, Vector{UInt32}}, Nothing}, Mill.BagNode{Mill.ProductNode{NamedTuple{(:element, :bonds, :charge, :atom_type), Tuple{Mill.ArrayNode{Flux.OneHotArray{UInt32, 0x00000007, 1, 2, Vector{UInt32}}, Nothing}, Mill.BagNode{Mill.ProductNode{NamedTuple{(:element, :bond_type, :charge, :atom_type), Tuple{Mill.ArrayNode{Flux.OneHotArray{UInt32, 0x00000007, 1, 2, Vector{UInt32}}, Nothing}, Mill.ArrayNode{Flux.OneHotArray{UInt32, 0x00000004, 1, 2, Vector{UInt32}}, Nothing}, Mill.ArrayNode{Matrix{Float32}, Nothing}, Mill.ArrayNode{Flux.OneHotArray{UInt32, 0x0000001d, 1, 2, Vector{UInt32}}, Nothing}}}, Nothing}, Mill.AlignedBags{Int64}, Nothing}, Mill.ArrayNode{Matrix{Float32}, Nothing}, Mill.ArrayNode{Flux.OneHotArray{UInt32, 0x0000001d, 1, 2, Vector{UInt32}}, Nothing}}}, Nothing}, Mill.AlignedBags{Int64}, Nothing}}}, Nothing}}, Tuple{Vector{Int64}}, false}, SubArray{Int64, 1, Vector{Int64}, Tuple{Vector{Int64}}, false}}})\n    @ Zygote /opt/julia/packages/Zygote/cCyLF/src/compiler/interface2.jl:0\n [23] pullback(f::Function, ps::Zygote.Params)\n    @ Zygote /opt/julia/packages/Zygote/cCyLF/src/compiler/interface.jl:352\n [24] gradient(f::Function, args::Zygote.Params)\n    @ Zygote /opt/julia/packages/Zygote/cCyLF/src/compiler/interface.jl:75\n [25] macro expansion\n    @ /opt/julia/packages/Flux/qAdFM/src/optimise/train.jl:109 [inlined]\n [26] macro expansion\n    @ /opt/julia/packages/Juno/n6wyj/src/progress.jl:134 [inlined]\n [27] train!(loss::PyObject, ps::Zygote.Params, data::MLDataPattern.RandomBatches{Tuple{SubArray{Mill.ProductNode{NamedTuple{(:lumo, :inda, :logp, :ind1, :atoms), Tuple{Mill.ArrayNode{Flux.OneHotArray{UInt32, 0x00000063, 1, 2, Vector{UInt32}}, Nothing}, Mill.ArrayNode{Flux.OneHotArray{UInt32, 0x00000002, 1, 2, Vector{UInt32}}, Nothing}, Mill.ArrayNode{Flux.OneHotArray{UInt32, 0x0000003f, 1, 2, Vector{UInt32}}, Nothing}, Mill.ArrayNode{Flux.OneHotArray{UInt32, 0x00000003, 1, 2, Vector{UInt32}}, Nothing}, Mill.BagNode{Mill.ProductNode{NamedTuple{(:element, :bonds, :charge, :atom_type), Tuple{Mill.ArrayNode{Flux.OneHotArray{UInt32, 0x00000007, 1, 2, Vector{UInt32}}, Nothing}, Mill.BagNode{Mill.ProductNode{NamedTuple{(:element, :bond_type, :charge, :atom_type), Tuple{Mill.ArrayNode{Flux.OneHotArray{UInt32, 0x00000007, 1, 2, Vector{UInt32}}, Nothing}, Mill.ArrayNode{Flux.OneHotArray{UInt32, 0x00000004, 1, 2, Vector{UInt32}}, Nothing}, Mill.ArrayNode{Matrix{Float32}, Nothing}, Mill.ArrayNode{Flux.OneHotArray{UInt32, 0x0000001d, 1, 2, Vector{UInt32}}, Nothing}}}, Nothing}, Mill.AlignedBags{Int64}, Nothing}, Mill.ArrayNode{Matrix{Float32}, Nothing}, Mill.ArrayNode{Flux.OneHotArray{UInt32, 0x0000001d, 1, 2, Vector{UInt32}}, Nothing}}}, Nothing}, Mill.AlignedBags{Int64}, Nothing}}}, Nothing}, 1, Vector{Mill.ProductNode{NamedTuple{(:lumo, :inda, :logp, :ind1, :atoms), Tuple{Mill.ArrayNode{Flux.OneHotArray{UInt32, 0x00000063, 1, 2, Vector{UInt32}}, Nothing}, Mill.ArrayNode{Flux.OneHotArray{UInt32, 0x00000002, 1, 2, Vector{UInt32}}, Nothing}, Mill.ArrayNode{Flux.OneHotArray{UInt32, 0x0000003f, 1, 2, Vector{UInt32}}, Nothing}, Mill.ArrayNode{Flux.OneHotArray{UInt32, 0x00000003, 1, 2, Vector{UInt32}}, Nothing}, Mill.BagNode{Mill.ProductNode{NamedTuple{(:element, :bonds, :charge, :atom_type), Tuple{Mill.ArrayNode{Flux.OneHotArray{UInt32, 0x00000007, 1, 2, Vector{UInt32}}, Nothing}, Mill.BagNode{Mill.ProductNode{NamedTuple{(:element, :bond_type, :charge, :atom_type), Tuple{Mill.ArrayNode{Flux.OneHotArray{UInt32, 0x00000007, 1, 2, Vector{UInt32}}, Nothing}, Mill.ArrayNode{Flux.OneHotArray{UInt32, 0x00000004, 1, 2, Vector{UInt32}}, Nothing}, Mill.ArrayNode{Matrix{Float32}, Nothing}, Mill.ArrayNode{Flux.OneHotArray{UInt32, 0x0000001d, 1, 2, Vector{UInt32}}, Nothing}}}, Nothing}, Mill.AlignedBags{Int64}, Nothing}, Mill.ArrayNode{Matrix{Float32}, Nothing}, Mill.ArrayNode{Flux.OneHotArray{UInt32, 0x0000001d, 1, 2, Vector{UInt32}}, Nothing}}}, Nothing}, Mill.AlignedBags{Int64}, Nothing}}}, Nothing}}, Tuple{Vector{Int64}}, false}, SubArray{Int64, 1, Vector{Int64}, Tuple{Vector{Int64}}, false}}, Tuple{Vector{Mill.ProductNode{NamedTuple{(:lumo, :inda, :logp, :ind1, :atoms), Tuple{Mill.ArrayNode{Flux.OneHotArray{UInt32, 0x00000063, 1, 2, Vector{UInt32}}, Nothing}, Mill.ArrayNode{Flux.OneHotArray{UInt32, 0x00000002, 1, 2, Vector{UInt32}}, Nothing}, Mill.ArrayNode{Flux.OneHotArray{UInt32, 0x0000003f, 1, 2, Vector{UInt32}}, Nothing}, Mill.ArrayNode{Flux.OneHotArray{UInt32, 0x00000003, 1, 2, Vector{UInt32}}, Nothing}, Mill.BagNode{Mill.ProductNode{NamedTuple{(:element, :bonds, :charge, :atom_type), Tuple{Mill.ArrayNode{Flux.OneHotArray{UInt32, 0x00000007, 1, 2, Vector{UInt32}}, Nothing}, Mill.BagNode{Mill.ProductNode{NamedTuple{(:element, :bond_type, :charge, :atom_type), Tuple{Mill.ArrayNode{Flux.OneHotArray{UInt32, 0x00000007, 1, 2, Vector{UInt32}}, Nothing}, Mill.ArrayNode{Flux.OneHotArray{UInt32, 0x00000004, 1, 2, Vector{UInt32}}, Nothing}, Mill.ArrayNode{Matrix{Float32}, Nothing}, Mill.ArrayNode{Flux.OneHotArray{UInt32, 0x0000001d, 1, 2, Vector{UInt32}}, Nothing}}}, Nothing}, Mill.AlignedBags{Int64}, Nothing}, Mill.ArrayNode{Matrix{Float32}, Nothing}, Mill.ArrayNode{Flux.OneHotArray{UInt32, 0x0000001d, 1, 2, Vector{UInt32}}, Nothing}}}, Nothing}, Mill.AlignedBags{Int64}, Nothing}}}, Nothing}}, Vector{Int64}}, Tuple{LearnBase.ObsDim.Last, LearnBase.ObsDim.Last}, Base.HasLength}, opt::Flux.Optimise.ADAM; cb::Flux.var\"#throttled#74\"{Flux.var\"#throttled#70#75\"{Bool, Bool, PyObject, Int64}})\n    @ Flux.Optimise /opt/julia/packages/Flux/qAdFM/src/optimise/train.jl:107\n [28] invokelatest(::Any, ::Any, ::Vararg{Any}; kwargs::Base.Pairs{Symbol, Flux.var\"#throttled#74\"{Flux.var\"#throttled#70#75\"{Bool, Bool, PyObject, Int64}}, Tuple{Symbol}, NamedTuple{(:cb,), Tuple{Flux.var\"#throttled#74\"{Flux.var\"#throttled#70#75\"{Bool, Bool, PyObject, Int64}}}}})\n    @ Base ./essentials.jl:718\n [29] _pyjlwrap_call(f::Function, args_::Ptr{PyCall.PyObject_struct}, kw_::Ptr{PyCall.PyObject_struct})\n    @ PyCall /opt/julia/packages/PyCall/7a7w0/src/callback.jl:32\n [30] pyjlwrap_call(self_::Ptr{PyCall.PyObject_struct}, args_::Ptr{PyCall.PyObject_struct}, kw_::Ptr{PyCall.PyObject_struct})\n    @ PyCall /opt/julia/packages/PyCall/7a7w0/src/callback.jl:44>",
     "output_type": "error",
     "traceback": [
      "\u001B[0;31m---------------------------------------------------------------------------\u001B[0m",
      "\u001B[0;31mRuntimeError\u001B[0m                              Traceback (most recent call last)",
      "Input \u001B[0;32mIn [43]\u001B[0m, in \u001B[0;36m<module>\u001B[0;34m\u001B[0m\n\u001B[1;32m      1\u001B[0m minibatches \u001B[38;5;241m=\u001B[39m MLDataPattern\u001B[38;5;241m.\u001B[39mRandomBatches((train_data, train_y), size \u001B[38;5;241m=\u001B[39m minibatchsize, count \u001B[38;5;241m=\u001B[39m iterations)\n\u001B[0;32m----> 2\u001B[0m \u001B[43mFlux\u001B[49m\u001B[38;5;241;43m.\u001B[39;49m\u001B[43mOptimise\u001B[49m\u001B[38;5;241;43m.\u001B[39;49m\u001B[43mtrain_b\u001B[49m\u001B[43m(\u001B[49m\u001B[38;5;28;43;01mlambda\u001B[39;49;00m\u001B[43m \u001B[49m\u001B[43mxy\u001B[49m\u001B[43m:\u001B[49m\u001B[43m \u001B[49m\u001B[43mloss\u001B[49m\u001B[43m(\u001B[49m\u001B[43mxy\u001B[49m\u001B[43m[\u001B[49m\u001B[38;5;241;43m0\u001B[39;49m\u001B[43m]\u001B[49m\u001B[43m,\u001B[49m\u001B[43m \u001B[49m\u001B[43mxy\u001B[49m\u001B[43m[\u001B[49m\u001B[38;5;241;43m1\u001B[39;49m\u001B[43m]\u001B[49m\u001B[43m)\u001B[49m\u001B[43m,\u001B[49m\u001B[43m \u001B[49m\u001B[43mFlux\u001B[49m\u001B[38;5;241;43m.\u001B[39;49m\u001B[43mparams\u001B[49m\u001B[43m(\u001B[49m\u001B[43mmodel\u001B[49m\u001B[43m)\u001B[49m\u001B[43m,\u001B[49m\u001B[43m \u001B[49m\u001B[43mminibatches\u001B[49m\u001B[43m,\u001B[49m\u001B[43m \u001B[49m\u001B[43mFlux\u001B[49m\u001B[38;5;241;43m.\u001B[39;49m\u001B[43mADAM\u001B[49m\u001B[43m(\u001B[49m\u001B[43m)\u001B[49m\u001B[43m,\u001B[49m\u001B[43m \u001B[49m\u001B[43mcb\u001B[49m\u001B[43m \u001B[49m\u001B[38;5;241;43m=\u001B[39;49m\u001B[43m \u001B[49m\u001B[43mFlux\u001B[49m\u001B[38;5;241;43m.\u001B[39;49m\u001B[43mthrottle\u001B[49m\u001B[43m(\u001B[49m\u001B[43mcb\u001B[49m\u001B[43m,\u001B[49m\u001B[43m \u001B[49m\u001B[38;5;241;43m2\u001B[39;49m\u001B[43m)\u001B[49m\u001B[43m)\u001B[49m\n",
      "\u001B[0;31mRuntimeError\u001B[0m: <PyCall.jlwrap (in a Julia function called from Python)\nJULIA: Compiling Tuple{typeof(PyCall._pycall!), PyObject, PyObject, Tuple{SubArray{Mill.ProductNode{NamedTuple{(:lumo, :inda, :logp, :ind1, :atoms), Tuple{Mill.ArrayNode{Flux.OneHotArray{UInt32, 0x00000063, 1, 2, Vector{UInt32}}, Nothing}, Mill.ArrayNode{Flux.OneHotArray{UInt32, 0x00000002, 1, 2, Vector{UInt32}}, Nothing}, Mill.ArrayNode{Flux.OneHotArray{UInt32, 0x0000003f, 1, 2, Vector{UInt32}}, Nothing}, Mill.ArrayNode{Flux.OneHotArray{UInt32, 0x00000003, 1, 2, Vector{UInt32}}, Nothing}, Mill.BagNode{Mill.ProductNode{NamedTuple{(:element, :bonds, :charge, :atom_type), Tuple{Mill.ArrayNode{Flux.OneHotArray{UInt32, 0x00000007, 1, 2, Vector{UInt32}}, Nothing}, Mill.BagNode{Mill.ProductNode{NamedTuple{(:element, :bond_type, :charge, :atom_type), Tuple{Mill.ArrayNode{Flux.OneHotArray{UInt32, 0x00000007, 1, 2, Vector{UInt32}}, Nothing}, Mill.ArrayNode{Flux.OneHotArray{UInt32, 0x00000004, 1, 2, Vector{UInt32}}, Nothing}, Mill.ArrayNode{Matrix{Float32}, Nothing}, Mill.ArrayNode{Flux.OneHotArray{UInt32, 0x0000001d, 1, 2, Vector{UInt32}}, Nothing}}}, Nothing}, Mill.AlignedBags{Int64}, Nothing}, Mill.ArrayNode{Matrix{Float32}, Nothing}, Mill.ArrayNode{Flux.OneHotArray{UInt32, 0x0000001d, 1, 2, Vector{UInt32}}, Nothing}}}, Nothing}, Mill.AlignedBags{Int64}, Nothing}}}, Nothing}, 1, Vector{Mill.ProductNode{NamedTuple{(:lumo, :inda, :logp, :ind1, :atoms), Tuple{Mill.ArrayNode{Flux.OneHotArray{UInt32, 0x00000063, 1, 2, Vector{UInt32}}, Nothing}, Mill.ArrayNode{Flux.OneHotArray{UInt32, 0x00000002, 1, 2, Vector{UInt32}}, Nothing}, Mill.ArrayNode{Flux.OneHotArray{UInt32, 0x0000003f, 1, 2, Vector{UInt32}}, Nothing}, Mill.ArrayNode{Flux.OneHotArray{UInt32, 0x00000003, 1, 2, Vector{UInt32}}, Nothing}, Mill.BagNode{Mill.ProductNode{NamedTuple{(:element, :bonds, :charge, :atom_type), Tuple{Mill.ArrayNode{Flux.OneHotArray{UInt32, 0x00000007, 1, 2, Vector{UInt32}}, Nothing}, Mill.BagNode{Mill.ProductNode{NamedTuple{(:element, :bond_type, :charge, :atom_type), Tuple{Mill.ArrayNode{Flux.OneHotArray{UInt32, 0x00000007, 1, 2, Vector{UInt32}}, Nothing}, Mill.ArrayNode{Flux.OneHotArray{UInt32, 0x00000004, 1, 2, Vector{UInt32}}, Nothing}, Mill.ArrayNode{Matrix{Float32}, Nothing}, Mill.ArrayNode{Flux.OneHotArray{UInt32, 0x0000001d, 1, 2, Vector{UInt32}}, Nothing}}}, Nothing}, Mill.AlignedBags{Int64}, Nothing}, Mill.ArrayNode{Matrix{Float32}, Nothing}, Mill.ArrayNode{Flux.OneHotArray{UInt32, 0x0000001d, 1, 2, Vector{UInt32}}, Nothing}}}, Nothing}, Mill.AlignedBags{Int64}, Nothing}}}, Nothing}}, Tuple{Vector{Int64}}, false}, SubArray{Int64, 1, Vector{Int64}, Tuple{Vector{Int64}}, false}}, Int64, Ptr{Nothing}}: try/catch is not supported.\nStacktrace:\n  [1] error(s::String)\n    @ Base ./error.jl:33\n  [2] instrument(ir::IRTools.Inner.IR)\n    @ Zygote /opt/julia/packages/Zygote/cCyLF/src/compiler/reverse.jl:121\n  [3] #Primal#20\n    @ /opt/julia/packages/Zygote/cCyLF/src/compiler/reverse.jl:202 [inlined]\n  [4] Zygote.Adjoint(ir::IRTools.Inner.IR; varargs::Nothing, normalise::Bool)\n    @ Zygote /opt/julia/packages/Zygote/cCyLF/src/compiler/reverse.jl:315\n  [5] _generate_pullback_via_decomposition(T::Type)\n    @ Zygote /opt/julia/packages/Zygote/cCyLF/src/compiler/emit.jl:101\n  [6] #s5902#1220\n    @ /opt/julia/packages/Zygote/cCyLF/src/compiler/interface2.jl:28 [inlined]\n  [7] var\"#s5902#1220\"(::Any, ctx::Any, f::Any, args::Any)\n    @ Zygote ./none:0\n  [8] (::Core.GeneratedFunctionStub)(::Any, ::Vararg{Any})\n    @ Core ./boot.jl:580\n  [9] _pullback\n    @ /opt/julia/packages/PyCall/7a7w0/src/pyfncall.jl:11 [inlined]\n [10] _pullback(::Zygote.Context, ::typeof(PyCall._pycall!), ::PyObject, ::PyObject, ::Tuple{SubArray{Mill.ProductNode{NamedTuple{(:lumo, :inda, :logp, :ind1, :atoms), Tuple{Mill.ArrayNode{Flux.OneHotArray{UInt32, 0x00000063, 1, 2, Vector{UInt32}}, Nothing}, Mill.ArrayNode{Flux.OneHotArray{UInt32, 0x00000002, 1, 2, Vector{UInt32}}, Nothing}, Mill.ArrayNode{Flux.OneHotArray{UInt32, 0x0000003f, 1, 2, Vector{UInt32}}, Nothing}, Mill.ArrayNode{Flux.OneHotArray{UInt32, 0x00000003, 1, 2, Vector{UInt32}}, Nothing}, Mill.BagNode{Mill.ProductNode{NamedTuple{(:element, :bonds, :charge, :atom_type), Tuple{Mill.ArrayNode{Flux.OneHotArray{UInt32, 0x00000007, 1, 2, Vector{UInt32}}, Nothing}, Mill.BagNode{Mill.ProductNode{NamedTuple{(:element, :bond_type, :charge, :atom_type), Tuple{Mill.ArrayNode{Flux.OneHotArray{UInt32, 0x00000007, 1, 2, Vector{UInt32}}, Nothing}, Mill.ArrayNode{Flux.OneHotArray{UInt32, 0x00000004, 1, 2, Vector{UInt32}}, Nothing}, Mill.ArrayNode{Matrix{Float32}, Nothing}, Mill.ArrayNode{Flux.OneHotArray{UInt32, 0x0000001d, 1, 2, Vector{UInt32}}, Nothing}}}, Nothing}, Mill.AlignedBags{Int64}, Nothing}, Mill.ArrayNode{Matrix{Float32}, Nothing}, Mill.ArrayNode{Flux.OneHotArray{UInt32, 0x0000001d, 1, 2, Vector{UInt32}}, Nothing}}}, Nothing}, Mill.AlignedBags{Int64}, Nothing}}}, Nothing}, 1, Vector{Mill.ProductNode{NamedTuple{(:lumo, :inda, :logp, :ind1, :atoms), Tuple{Mill.ArrayNode{Flux.OneHotArray{UInt32, 0x00000063, 1, 2, Vector{UInt32}}, Nothing}, Mill.ArrayNode{Flux.OneHotArray{UInt32, 0x00000002, 1, 2, Vector{UInt32}}, Nothing}, Mill.ArrayNode{Flux.OneHotArray{UInt32, 0x0000003f, 1, 2, Vector{UInt32}}, Nothing}, Mill.ArrayNode{Flux.OneHotArray{UInt32, 0x00000003, 1, 2, Vector{UInt32}}, Nothing}, Mill.BagNode{Mill.ProductNode{NamedTuple{(:element, :bonds, :charge, :atom_type), Tuple{Mill.ArrayNode{Flux.OneHotArray{UInt32, 0x00000007, 1, 2, Vector{UInt32}}, Nothing}, Mill.BagNode{Mill.ProductNode{NamedTuple{(:element, :bond_type, :charge, :atom_type), Tuple{Mill.ArrayNode{Flux.OneHotArray{UInt32, 0x00000007, 1, 2, Vector{UInt32}}, Nothing}, Mill.ArrayNode{Flux.OneHotArray{UInt32, 0x00000004, 1, 2, Vector{UInt32}}, Nothing}, Mill.ArrayNode{Matrix{Float32}, Nothing}, Mill.ArrayNode{Flux.OneHotArray{UInt32, 0x0000001d, 1, 2, Vector{UInt32}}, Nothing}}}, Nothing}, Mill.AlignedBags{Int64}, Nothing}, Mill.ArrayNode{Matrix{Float32}, Nothing}, Mill.ArrayNode{Flux.OneHotArray{UInt32, 0x0000001d, 1, 2, Vector{UInt32}}, Nothing}}}, Nothing}, Mill.AlignedBags{Int64}, Nothing}}}, Nothing}}, Tuple{Vector{Int64}}, false}, SubArray{Int64, 1, Vector{Int64}, Tuple{Vector{Int64}}, false}}, ::Base.Pairs{Symbol, Union{}, Tuple{}, NamedTuple{(), Tuple{}}})\n    @ Zygote /opt/julia/packages/Zygote/cCyLF/src/compiler/interface2.jl:0\n [11] _pullback\n    @ /opt/julia/packages/PyCall/7a7w0/src/pyfncall.jl:86 [inlined]\n [12] _pullback(::Zygote.Context, ::PyCall.var\"##_#114\", ::Base.Pairs{Symbol, Union{}, Tuple{}, NamedTuple{(), Tuple{}}}, ::PyObject, ::SubArray{Mill.ProductNode{NamedTuple{(:lumo, :inda, :logp, :ind1, :atoms), Tuple{Mill.ArrayNode{Flux.OneHotArray{UInt32, 0x00000063, 1, 2, Vector{UInt32}}, Nothing}, Mill.ArrayNode{Flux.OneHotArray{UInt32, 0x00000002, 1, 2, Vector{UInt32}}, Nothing}, Mill.ArrayNode{Flux.OneHotArray{UInt32, 0x0000003f, 1, 2, Vector{UInt32}}, Nothing}, Mill.ArrayNode{Flux.OneHotArray{UInt32, 0x00000003, 1, 2, Vector{UInt32}}, Nothing}, Mill.BagNode{Mill.ProductNode{NamedTuple{(:element, :bonds, :charge, :atom_type), Tuple{Mill.ArrayNode{Flux.OneHotArray{UInt32, 0x00000007, 1, 2, Vector{UInt32}}, Nothing}, Mill.BagNode{Mill.ProductNode{NamedTuple{(:element, :bond_type, :charge, :atom_type), Tuple{Mill.ArrayNode{Flux.OneHotArray{UInt32, 0x00000007, 1, 2, Vector{UInt32}}, Nothing}, Mill.ArrayNode{Flux.OneHotArray{UInt32, 0x00000004, 1, 2, Vector{UInt32}}, Nothing}, Mill.ArrayNode{Matrix{Float32}, Nothing}, Mill.ArrayNode{Flux.OneHotArray{UInt32, 0x0000001d, 1, 2, Vector{UInt32}}, Nothing}}}, Nothing}, Mill.AlignedBags{Int64}, Nothing}, Mill.ArrayNode{Matrix{Float32}, Nothing}, Mill.ArrayNode{Flux.OneHotArray{UInt32, 0x0000001d, 1, 2, Vector{UInt32}}, Nothing}}}, Nothing}, Mill.AlignedBags{Int64}, Nothing}}}, Nothing}, 1, Vector{Mill.ProductNode{NamedTuple{(:lumo, :inda, :logp, :ind1, :atoms), Tuple{Mill.ArrayNode{Flux.OneHotArray{UInt32, 0x00000063, 1, 2, Vector{UInt32}}, Nothing}, Mill.ArrayNode{Flux.OneHotArray{UInt32, 0x00000002, 1, 2, Vector{UInt32}}, Nothing}, Mill.ArrayNode{Flux.OneHotArray{UInt32, 0x0000003f, 1, 2, Vector{UInt32}}, Nothing}, Mill.ArrayNode{Flux.OneHotArray{UInt32, 0x00000003, 1, 2, Vector{UInt32}}, Nothing}, Mill.BagNode{Mill.ProductNode{NamedTuple{(:element, :bonds, :charge, :atom_type), Tuple{Mill.ArrayNode{Flux.OneHotArray{UInt32, 0x00000007, 1, 2, Vector{UInt32}}, Nothing}, Mill.BagNode{Mill.ProductNode{NamedTuple{(:element, :bond_type, :charge, :atom_type), Tuple{Mill.ArrayNode{Flux.OneHotArray{UInt32, 0x00000007, 1, 2, Vector{UInt32}}, Nothing}, Mill.ArrayNode{Flux.OneHotArray{UInt32, 0x00000004, 1, 2, Vector{UInt32}}, Nothing}, Mill.ArrayNode{Matrix{Float32}, Nothing}, Mill.ArrayNode{Flux.OneHotArray{UInt32, 0x0000001d, 1, 2, Vector{UInt32}}, Nothing}}}, Nothing}, Mill.AlignedBags{Int64}, Nothing}, Mill.ArrayNode{Matrix{Float32}, Nothing}, Mill.ArrayNode{Flux.OneHotArray{UInt32, 0x0000001d, 1, 2, Vector{UInt32}}, Nothing}}}, Nothing}, Mill.AlignedBags{Int64}, Nothing}}}, Nothing}}, Tuple{Vector{Int64}}, false}, ::SubArray{Int64, 1, Vector{Int64}, Tuple{Vector{Int64}}, false})\n    @ Zygote /opt/julia/packages/Zygote/cCyLF/src/compiler/interface2.jl:0\n [13] _apply\n    @ ./boot.jl:814 [inlined]\n [14] adjoint\n    @ /opt/julia/packages/Zygote/cCyLF/src/lib/lib.jl:200 [inlined]\n [15] _pullback\n    @ /opt/julia/packages/ZygoteRules/AIbCs/src/adjoint.jl:65 [inlined]\n [16] _pullback\n    @ /opt/julia/packages/PyCall/7a7w0/src/pyfncall.jl:86 [inlined]\n [17] _pullback(::Zygote.Context, ::PyObject, ::SubArray{Mill.ProductNode{NamedTuple{(:lumo, :inda, :logp, :ind1, :atoms), Tuple{Mill.ArrayNode{Flux.OneHotArray{UInt32, 0x00000063, 1, 2, Vector{UInt32}}, Nothing}, Mill.ArrayNode{Flux.OneHotArray{UInt32, 0x00000002, 1, 2, Vector{UInt32}}, Nothing}, Mill.ArrayNode{Flux.OneHotArray{UInt32, 0x0000003f, 1, 2, Vector{UInt32}}, Nothing}, Mill.ArrayNode{Flux.OneHotArray{UInt32, 0x00000003, 1, 2, Vector{UInt32}}, Nothing}, Mill.BagNode{Mill.ProductNode{NamedTuple{(:element, :bonds, :charge, :atom_type), Tuple{Mill.ArrayNode{Flux.OneHotArray{UInt32, 0x00000007, 1, 2, Vector{UInt32}}, Nothing}, Mill.BagNode{Mill.ProductNode{NamedTuple{(:element, :bond_type, :charge, :atom_type), Tuple{Mill.ArrayNode{Flux.OneHotArray{UInt32, 0x00000007, 1, 2, Vector{UInt32}}, Nothing}, Mill.ArrayNode{Flux.OneHotArray{UInt32, 0x00000004, 1, 2, Vector{UInt32}}, Nothing}, Mill.ArrayNode{Matrix{Float32}, Nothing}, Mill.ArrayNode{Flux.OneHotArray{UInt32, 0x0000001d, 1, 2, Vector{UInt32}}, Nothing}}}, Nothing}, Mill.AlignedBags{Int64}, Nothing}, Mill.ArrayNode{Matrix{Float32}, Nothing}, Mill.ArrayNode{Flux.OneHotArray{UInt32, 0x0000001d, 1, 2, Vector{UInt32}}, Nothing}}}, Nothing}, Mill.AlignedBags{Int64}, Nothing}}}, Nothing}, 1, Vector{Mill.ProductNode{NamedTuple{(:lumo, :inda, :logp, :ind1, :atoms), Tuple{Mill.ArrayNode{Flux.OneHotArray{UInt32, 0x00000063, 1, 2, Vector{UInt32}}, Nothing}, Mill.ArrayNode{Flux.OneHotArray{UInt32, 0x00000002, 1, 2, Vector{UInt32}}, Nothing}, Mill.ArrayNode{Flux.OneHotArray{UInt32, 0x0000003f, 1, 2, Vector{UInt32}}, Nothing}, Mill.ArrayNode{Flux.OneHotArray{UInt32, 0x00000003, 1, 2, Vector{UInt32}}, Nothing}, Mill.BagNode{Mill.ProductNode{NamedTuple{(:element, :bonds, :charge, :atom_type), Tuple{Mill.ArrayNode{Flux.OneHotArray{UInt32, 0x00000007, 1, 2, Vector{UInt32}}, Nothing}, Mill.BagNode{Mill.ProductNode{NamedTuple{(:element, :bond_type, :charge, :atom_type), Tuple{Mill.ArrayNode{Flux.OneHotArray{UInt32, 0x00000007, 1, 2, Vector{UInt32}}, Nothing}, Mill.ArrayNode{Flux.OneHotArray{UInt32, 0x00000004, 1, 2, Vector{UInt32}}, Nothing}, Mill.ArrayNode{Matrix{Float32}, Nothing}, Mill.ArrayNode{Flux.OneHotArray{UInt32, 0x0000001d, 1, 2, Vector{UInt32}}, Nothing}}}, Nothing}, Mill.AlignedBags{Int64}, Nothing}, Mill.ArrayNode{Matrix{Float32}, Nothing}, Mill.ArrayNode{Flux.OneHotArray{UInt32, 0x0000001d, 1, 2, Vector{UInt32}}, Nothing}}}, Nothing}, Mill.AlignedBags{Int64}, Nothing}}}, Nothing}}, Tuple{Vector{Int64}}, false}, ::SubArray{Int64, 1, Vector{Int64}, Tuple{Vector{Int64}}, false})\n    @ Zygote /opt/julia/packages/Zygote/cCyLF/src/compiler/interface2.jl:0\n [18] _apply(::Function, ::Vararg{Any})\n    @ Core ./boot.jl:814\n [19] adjoint\n    @ /opt/julia/packages/Zygote/cCyLF/src/lib/lib.jl:200 [inlined]\n [20] _pullback\n    @ /opt/julia/packages/ZygoteRules/AIbCs/src/adjoint.jl:65 [inlined]\n [21] _pullback\n    @ /opt/julia/packages/Flux/qAdFM/src/optimise/train.jl:110 [inlined]\n [22] _pullback(::Zygote.Context, ::Flux.Optimise.var\"#39#45\"{PyObject, Tuple{SubArray{Mill.ProductNode{NamedTuple{(:lumo, :inda, :logp, :ind1, :atoms), Tuple{Mill.ArrayNode{Flux.OneHotArray{UInt32, 0x00000063, 1, 2, Vector{UInt32}}, Nothing}, Mill.ArrayNode{Flux.OneHotArray{UInt32, 0x00000002, 1, 2, Vector{UInt32}}, Nothing}, Mill.ArrayNode{Flux.OneHotArray{UInt32, 0x0000003f, 1, 2, Vector{UInt32}}, Nothing}, Mill.ArrayNode{Flux.OneHotArray{UInt32, 0x00000003, 1, 2, Vector{UInt32}}, Nothing}, Mill.BagNode{Mill.ProductNode{NamedTuple{(:element, :bonds, :charge, :atom_type), Tuple{Mill.ArrayNode{Flux.OneHotArray{UInt32, 0x00000007, 1, 2, Vector{UInt32}}, Nothing}, Mill.BagNode{Mill.ProductNode{NamedTuple{(:element, :bond_type, :charge, :atom_type), Tuple{Mill.ArrayNode{Flux.OneHotArray{UInt32, 0x00000007, 1, 2, Vector{UInt32}}, Nothing}, Mill.ArrayNode{Flux.OneHotArray{UInt32, 0x00000004, 1, 2, Vector{UInt32}}, Nothing}, Mill.ArrayNode{Matrix{Float32}, Nothing}, Mill.ArrayNode{Flux.OneHotArray{UInt32, 0x0000001d, 1, 2, Vector{UInt32}}, Nothing}}}, Nothing}, Mill.AlignedBags{Int64}, Nothing}, Mill.ArrayNode{Matrix{Float32}, Nothing}, Mill.ArrayNode{Flux.OneHotArray{UInt32, 0x0000001d, 1, 2, Vector{UInt32}}, Nothing}}}, Nothing}, Mill.AlignedBags{Int64}, Nothing}}}, Nothing}, 1, Vector{Mill.ProductNode{NamedTuple{(:lumo, :inda, :logp, :ind1, :atoms), Tuple{Mill.ArrayNode{Flux.OneHotArray{UInt32, 0x00000063, 1, 2, Vector{UInt32}}, Nothing}, Mill.ArrayNode{Flux.OneHotArray{UInt32, 0x00000002, 1, 2, Vector{UInt32}}, Nothing}, Mill.ArrayNode{Flux.OneHotArray{UInt32, 0x0000003f, 1, 2, Vector{UInt32}}, Nothing}, Mill.ArrayNode{Flux.OneHotArray{UInt32, 0x00000003, 1, 2, Vector{UInt32}}, Nothing}, Mill.BagNode{Mill.ProductNode{NamedTuple{(:element, :bonds, :charge, :atom_type), Tuple{Mill.ArrayNode{Flux.OneHotArray{UInt32, 0x00000007, 1, 2, Vector{UInt32}}, Nothing}, Mill.BagNode{Mill.ProductNode{NamedTuple{(:element, :bond_type, :charge, :atom_type), Tuple{Mill.ArrayNode{Flux.OneHotArray{UInt32, 0x00000007, 1, 2, Vector{UInt32}}, Nothing}, Mill.ArrayNode{Flux.OneHotArray{UInt32, 0x00000004, 1, 2, Vector{UInt32}}, Nothing}, Mill.ArrayNode{Matrix{Float32}, Nothing}, Mill.ArrayNode{Flux.OneHotArray{UInt32, 0x0000001d, 1, 2, Vector{UInt32}}, Nothing}}}, Nothing}, Mill.AlignedBags{Int64}, Nothing}, Mill.ArrayNode{Matrix{Float32}, Nothing}, Mill.ArrayNode{Flux.OneHotArray{UInt32, 0x0000001d, 1, 2, Vector{UInt32}}, Nothing}}}, Nothing}, Mill.AlignedBags{Int64}, Nothing}}}, Nothing}}, Tuple{Vector{Int64}}, false}, SubArray{Int64, 1, Vector{Int64}, Tuple{Vector{Int64}}, false}}})\n    @ Zygote /opt/julia/packages/Zygote/cCyLF/src/compiler/interface2.jl:0\n [23] pullback(f::Function, ps::Zygote.Params)\n    @ Zygote /opt/julia/packages/Zygote/cCyLF/src/compiler/interface.jl:352\n [24] gradient(f::Function, args::Zygote.Params)\n    @ Zygote /opt/julia/packages/Zygote/cCyLF/src/compiler/interface.jl:75\n [25] macro expansion\n    @ /opt/julia/packages/Flux/qAdFM/src/optimise/train.jl:109 [inlined]\n [26] macro expansion\n    @ /opt/julia/packages/Juno/n6wyj/src/progress.jl:134 [inlined]\n [27] train!(loss::PyObject, ps::Zygote.Params, data::MLDataPattern.RandomBatches{Tuple{SubArray{Mill.ProductNode{NamedTuple{(:lumo, :inda, :logp, :ind1, :atoms), Tuple{Mill.ArrayNode{Flux.OneHotArray{UInt32, 0x00000063, 1, 2, Vector{UInt32}}, Nothing}, Mill.ArrayNode{Flux.OneHotArray{UInt32, 0x00000002, 1, 2, Vector{UInt32}}, Nothing}, Mill.ArrayNode{Flux.OneHotArray{UInt32, 0x0000003f, 1, 2, Vector{UInt32}}, Nothing}, Mill.ArrayNode{Flux.OneHotArray{UInt32, 0x00000003, 1, 2, Vector{UInt32}}, Nothing}, Mill.BagNode{Mill.ProductNode{NamedTuple{(:element, :bonds, :charge, :atom_type), Tuple{Mill.ArrayNode{Flux.OneHotArray{UInt32, 0x00000007, 1, 2, Vector{UInt32}}, Nothing}, Mill.BagNode{Mill.ProductNode{NamedTuple{(:element, :bond_type, :charge, :atom_type), Tuple{Mill.ArrayNode{Flux.OneHotArray{UInt32, 0x00000007, 1, 2, Vector{UInt32}}, Nothing}, Mill.ArrayNode{Flux.OneHotArray{UInt32, 0x00000004, 1, 2, Vector{UInt32}}, Nothing}, Mill.ArrayNode{Matrix{Float32}, Nothing}, Mill.ArrayNode{Flux.OneHotArray{UInt32, 0x0000001d, 1, 2, Vector{UInt32}}, Nothing}}}, Nothing}, Mill.AlignedBags{Int64}, Nothing}, Mill.ArrayNode{Matrix{Float32}, Nothing}, Mill.ArrayNode{Flux.OneHotArray{UInt32, 0x0000001d, 1, 2, Vector{UInt32}}, Nothing}}}, Nothing}, Mill.AlignedBags{Int64}, Nothing}}}, Nothing}, 1, Vector{Mill.ProductNode{NamedTuple{(:lumo, :inda, :logp, :ind1, :atoms), Tuple{Mill.ArrayNode{Flux.OneHotArray{UInt32, 0x00000063, 1, 2, Vector{UInt32}}, Nothing}, Mill.ArrayNode{Flux.OneHotArray{UInt32, 0x00000002, 1, 2, Vector{UInt32}}, Nothing}, Mill.ArrayNode{Flux.OneHotArray{UInt32, 0x0000003f, 1, 2, Vector{UInt32}}, Nothing}, Mill.ArrayNode{Flux.OneHotArray{UInt32, 0x00000003, 1, 2, Vector{UInt32}}, Nothing}, Mill.BagNode{Mill.ProductNode{NamedTuple{(:element, :bonds, :charge, :atom_type), Tuple{Mill.ArrayNode{Flux.OneHotArray{UInt32, 0x00000007, 1, 2, Vector{UInt32}}, Nothing}, Mill.BagNode{Mill.ProductNode{NamedTuple{(:element, :bond_type, :charge, :atom_type), Tuple{Mill.ArrayNode{Flux.OneHotArray{UInt32, 0x00000007, 1, 2, Vector{UInt32}}, Nothing}, Mill.ArrayNode{Flux.OneHotArray{UInt32, 0x00000004, 1, 2, Vector{UInt32}}, Nothing}, Mill.ArrayNode{Matrix{Float32}, Nothing}, Mill.ArrayNode{Flux.OneHotArray{UInt32, 0x0000001d, 1, 2, Vector{UInt32}}, Nothing}}}, Nothing}, Mill.AlignedBags{Int64}, Nothing}, Mill.ArrayNode{Matrix{Float32}, Nothing}, Mill.ArrayNode{Flux.OneHotArray{UInt32, 0x0000001d, 1, 2, Vector{UInt32}}, Nothing}}}, Nothing}, Mill.AlignedBags{Int64}, Nothing}}}, Nothing}}, Tuple{Vector{Int64}}, false}, SubArray{Int64, 1, Vector{Int64}, Tuple{Vector{Int64}}, false}}, Tuple{Vector{Mill.ProductNode{NamedTuple{(:lumo, :inda, :logp, :ind1, :atoms), Tuple{Mill.ArrayNode{Flux.OneHotArray{UInt32, 0x00000063, 1, 2, Vector{UInt32}}, Nothing}, Mill.ArrayNode{Flux.OneHotArray{UInt32, 0x00000002, 1, 2, Vector{UInt32}}, Nothing}, Mill.ArrayNode{Flux.OneHotArray{UInt32, 0x0000003f, 1, 2, Vector{UInt32}}, Nothing}, Mill.ArrayNode{Flux.OneHotArray{UInt32, 0x00000003, 1, 2, Vector{UInt32}}, Nothing}, Mill.BagNode{Mill.ProductNode{NamedTuple{(:element, :bonds, :charge, :atom_type), Tuple{Mill.ArrayNode{Flux.OneHotArray{UInt32, 0x00000007, 1, 2, Vector{UInt32}}, Nothing}, Mill.BagNode{Mill.ProductNode{NamedTuple{(:element, :bond_type, :charge, :atom_type), Tuple{Mill.ArrayNode{Flux.OneHotArray{UInt32, 0x00000007, 1, 2, Vector{UInt32}}, Nothing}, Mill.ArrayNode{Flux.OneHotArray{UInt32, 0x00000004, 1, 2, Vector{UInt32}}, Nothing}, Mill.ArrayNode{Matrix{Float32}, Nothing}, Mill.ArrayNode{Flux.OneHotArray{UInt32, 0x0000001d, 1, 2, Vector{UInt32}}, Nothing}}}, Nothing}, Mill.AlignedBags{Int64}, Nothing}, Mill.ArrayNode{Matrix{Float32}, Nothing}, Mill.ArrayNode{Flux.OneHotArray{UInt32, 0x0000001d, 1, 2, Vector{UInt32}}, Nothing}}}, Nothing}, Mill.AlignedBags{Int64}, Nothing}}}, Nothing}}, Vector{Int64}}, Tuple{LearnBase.ObsDim.Last, LearnBase.ObsDim.Last}, Base.HasLength}, opt::Flux.Optimise.ADAM; cb::Flux.var\"#throttled#74\"{Flux.var\"#throttled#70#75\"{Bool, Bool, PyObject, Int64}})\n    @ Flux.Optimise /opt/julia/packages/Flux/qAdFM/src/optimise/train.jl:107\n [28] invokelatest(::Any, ::Any, ::Vararg{Any}; kwargs::Base.Pairs{Symbol, Flux.var\"#throttled#74\"{Flux.var\"#throttled#70#75\"{Bool, Bool, PyObject, Int64}}, Tuple{Symbol}, NamedTuple{(:cb,), Tuple{Flux.var\"#throttled#74\"{Flux.var\"#throttled#70#75\"{Bool, Bool, PyObject, Int64}}}}})\n    @ Base ./essentials.jl:718\n [29] _pyjlwrap_call(f::Function, args_::Ptr{PyCall.PyObject_struct}, kw_::Ptr{PyCall.PyObject_struct})\n    @ PyCall /opt/julia/packages/PyCall/7a7w0/src/callback.jl:32\n [30] pyjlwrap_call(self_::Ptr{PyCall.PyObject_struct}, args_::Ptr{PyCall.PyObject_struct}, kw_::Ptr{PyCall.PyObject_struct})\n    @ PyCall /opt/julia/packages/PyCall/7a7w0/src/callback.jl:44>"
     ]
    }
   ],
   "source": [
    "Flux.Optimise.train_b(lambda xy: loss(xy[0], xy[1]), Flux.params(model), minibatches, Flux.ADAM(), cb = Flux.throttle(cb, 2))"
   ]
  },
  {
   "cell_type": "code",
   "execution_count": 75,
   "metadata": {},
   "outputs": [],
   "source": [
    "def actual(x): return 4*x + 2"
   ]
  },
  {
   "cell_type": "code",
   "execution_count": 88,
   "metadata": {},
   "outputs": [
    {
     "data": {
      "text/plain": [
       "([[0, 1, 2, 3, 4]], [[6, 7, 8, 9]])"
      ]
     },
     "execution_count": 88,
     "metadata": {},
     "output_type": "execute_result"
    }
   ],
   "source": [
    "x_train, x_test = [list(range(0,5))], [list(range(6,10))]\n",
    "x_train, x_test"
   ]
  },
  {
   "cell_type": "code",
   "execution_count": 90,
   "metadata": {},
   "outputs": [
    {
     "data": {
      "text/plain": [
       "([2, 6, 10, 14, 18], [26, 30, 34, 38])"
      ]
     },
     "execution_count": 90,
     "metadata": {},
     "output_type": "execute_result"
    }
   ],
   "source": [
    "y_train, y_test = list(map(actual, x_train[0])), list(map(actual, x_test[0]))\n",
    "y_train, y_test"
   ]
  },
  {
   "cell_type": "code",
   "execution_count": 91,
   "metadata": {},
   "outputs": [],
   "source": [
    "model = Flux.Dense(1, 1)"
   ]
  },
  {
   "cell_type": "code",
   "execution_count": 92,
   "metadata": {},
   "outputs": [
    {
     "data": {
      "text/plain": [
       "array([[0.       , 0.9608712, 1.9217424, 2.8826137, 3.8434849]],\n",
       "      dtype=float32)"
      ]
     },
     "execution_count": 92,
     "metadata": {},
     "output_type": "execute_result"
    }
   ],
   "source": [
    "model(x_train)"
   ]
  },
  {
   "cell_type": "code",
   "execution_count": 94,
   "metadata": {},
   "outputs": [],
   "source": [
    "def loss(x, y): return Flux.Losses.mse(model(x), y)"
   ]
  },
  {
   "cell_type": "code",
   "execution_count": 95,
   "metadata": {},
   "outputs": [
    {
     "data": {
      "text/plain": [
       "99.10480499267578"
      ]
     },
     "execution_count": 95,
     "metadata": {},
     "output_type": "execute_result"
    }
   ],
   "source": [
    "loss(x_train, y_train)"
   ]
  },
  {
   "cell_type": "code",
   "execution_count": 97,
   "metadata": {},
   "outputs": [],
   "source": [
    "parameters = Flux.params(model)"
   ]
  },
  {
   "cell_type": "code",
   "execution_count": 99,
   "metadata": {},
   "outputs": [
    {
     "ename": "RuntimeError",
     "evalue": "<PyCall.jlwrap (in a Julia function called from Python)\nJULIA: Compiling Tuple{typeof(PyCall._pycall!), PyObject, PyObject, Tuple{Matrix{Int64}, Vector{Int64}}, Int64, Ptr{Nothing}}: try/catch is not supported.\nStacktrace:\n  [1] error(s::String)\n    @ Base ./error.jl:33\n  [2] instrument(ir::IRTools.Inner.IR)\n    @ Zygote /opt/julia/packages/Zygote/cCyLF/src/compiler/reverse.jl:121\n  [3] #Primal#20\n    @ /opt/julia/packages/Zygote/cCyLF/src/compiler/reverse.jl:202 [inlined]\n  [4] Zygote.Adjoint(ir::IRTools.Inner.IR; varargs::Nothing, normalise::Bool)\n    @ Zygote /opt/julia/packages/Zygote/cCyLF/src/compiler/reverse.jl:315\n  [5] _generate_pullback_via_decomposition(T::Type)\n    @ Zygote /opt/julia/packages/Zygote/cCyLF/src/compiler/emit.jl:101\n  [6] #s5902#1220\n    @ /opt/julia/packages/Zygote/cCyLF/src/compiler/interface2.jl:28 [inlined]\n  [7] var\"#s5902#1220\"(::Any, ctx::Any, f::Any, args::Any)\n    @ Zygote ./none:0\n  [8] (::Core.GeneratedFunctionStub)(::Any, ::Vararg{Any})\n    @ Core ./boot.jl:580\n  [9] _pullback\n    @ /opt/julia/packages/PyCall/7a7w0/src/pyfncall.jl:11 [inlined]\n [10] _pullback(::Zygote.Context, ::typeof(PyCall._pycall!), ::PyObject, ::PyObject, ::Tuple{Matrix{Int64}, Vector{Int64}}, ::Base.Pairs{Symbol, Union{}, Tuple{}, NamedTuple{(), Tuple{}}})\n    @ Zygote /opt/julia/packages/Zygote/cCyLF/src/compiler/interface2.jl:0\n [11] _pullback\n    @ /opt/julia/packages/PyCall/7a7w0/src/pyfncall.jl:86 [inlined]\n [12] _pullback(::Zygote.Context, ::PyCall.var\"##_#114\", ::Base.Pairs{Symbol, Union{}, Tuple{}, NamedTuple{(), Tuple{}}}, ::PyObject, ::Matrix{Int64}, ::Vector{Int64})\n    @ Zygote /opt/julia/packages/Zygote/cCyLF/src/compiler/interface2.jl:0\n [13] _apply\n    @ ./boot.jl:814 [inlined]\n [14] adjoint\n    @ /opt/julia/packages/Zygote/cCyLF/src/lib/lib.jl:200 [inlined]\n [15] _pullback\n    @ /opt/julia/packages/ZygoteRules/AIbCs/src/adjoint.jl:65 [inlined]\n [16] _pullback\n    @ /opt/julia/packages/PyCall/7a7w0/src/pyfncall.jl:86 [inlined]\n [17] _pullback(::Zygote.Context, ::PyObject, ::Matrix{Int64}, ::Vector{Int64})\n    @ Zygote /opt/julia/packages/Zygote/cCyLF/src/compiler/interface2.jl:0\n [18] _apply(::Function, ::Vararg{Any})\n    @ Core ./boot.jl:814\n [19] adjoint\n    @ /opt/julia/packages/Zygote/cCyLF/src/lib/lib.jl:200 [inlined]\n [20] _pullback\n    @ /opt/julia/packages/ZygoteRules/AIbCs/src/adjoint.jl:65 [inlined]\n [21] _pullback\n    @ /opt/julia/packages/Flux/qAdFM/src/optimise/train.jl:110 [inlined]\n [22] _pullback(::Zygote.Context, ::Flux.Optimise.var\"#39#45\"{PyObject, Tuple{Matrix{Int64}, Vector{Int64}}})\n    @ Zygote /opt/julia/packages/Zygote/cCyLF/src/compiler/interface2.jl:0\n [23] pullback(f::Function, ps::Zygote.Params)\n    @ Zygote /opt/julia/packages/Zygote/cCyLF/src/compiler/interface.jl:352\n [24] gradient(f::Function, args::Zygote.Params)\n    @ Zygote /opt/julia/packages/Zygote/cCyLF/src/compiler/interface.jl:75\n [25] macro expansion\n    @ /opt/julia/packages/Flux/qAdFM/src/optimise/train.jl:109 [inlined]\n [26] macro expansion\n    @ /opt/julia/packages/Juno/n6wyj/src/progress.jl:134 [inlined]\n [27] train!(loss::PyObject, ps::Zygote.Params, data::Vector{Tuple{Matrix{Int64}, Vector{Int64}}}, opt::Flux.Optimise.ADAM; cb::Flux.Optimise.var\"#40#46\")\n    @ Flux.Optimise /opt/julia/packages/Flux/qAdFM/src/optimise/train.jl:107\n [28] train!(loss::PyObject, ps::Zygote.Params, data::Vector{Tuple{Matrix{Int64}, Vector{Int64}}}, opt::Flux.Optimise.ADAM)\n    @ Flux.Optimise /opt/julia/packages/Flux/qAdFM/src/optimise/train.jl:105\n [29] invokelatest(::Any, ::Any, ::Vararg{Any}; kwargs::Base.Pairs{Symbol, Union{}, Tuple{}, NamedTuple{(), Tuple{}}})\n    @ Base ./essentials.jl:716\n [30] invokelatest(::Any, ::Any, ::Vararg{Any})\n    @ Base ./essentials.jl:714\n [31] _pyjlwrap_call(f::Function, args_::Ptr{PyCall.PyObject_struct}, kw_::Ptr{PyCall.PyObject_struct})\n    @ PyCall /opt/julia/packages/PyCall/7a7w0/src/callback.jl:28\n [32] pyjlwrap_call(self_::Ptr{PyCall.PyObject_struct}, args_::Ptr{PyCall.PyObject_struct}, kw_::Ptr{PyCall.PyObject_struct})\n    @ PyCall /opt/julia/packages/PyCall/7a7w0/src/callback.jl:44>",
     "output_type": "error",
     "traceback": [
      "\u001B[0;31m---------------------------------------------------------------------------\u001B[0m",
      "\u001B[0;31mRuntimeError\u001B[0m                              Traceback (most recent call last)",
      "Input \u001B[0;32mIn [99]\u001B[0m, in \u001B[0;36m<module>\u001B[0;34m\u001B[0m\n\u001B[1;32m      1\u001B[0m data \u001B[38;5;241m=\u001B[39m [(x_train, y_train)]\n\u001B[0;32m----> 2\u001B[0m \u001B[43mFlux\u001B[49m\u001B[38;5;241;43m.\u001B[39;49m\u001B[43mtrain_b\u001B[49m\u001B[43m(\u001B[49m\u001B[43mloss\u001B[49m\u001B[43m,\u001B[49m\u001B[43m \u001B[49m\u001B[43mparameters\u001B[49m\u001B[43m,\u001B[49m\u001B[43m \u001B[49m\u001B[43mdata\u001B[49m\u001B[43m,\u001B[49m\u001B[43m \u001B[49m\u001B[43mFlux\u001B[49m\u001B[38;5;241;43m.\u001B[39;49m\u001B[43mADAM\u001B[49m\u001B[43m(\u001B[49m\u001B[43m)\u001B[49m\u001B[43m)\u001B[49m\n",
      "\u001B[0;31mRuntimeError\u001B[0m: <PyCall.jlwrap (in a Julia function called from Python)\nJULIA: Compiling Tuple{typeof(PyCall._pycall!), PyObject, PyObject, Tuple{Matrix{Int64}, Vector{Int64}}, Int64, Ptr{Nothing}}: try/catch is not supported.\nStacktrace:\n  [1] error(s::String)\n    @ Base ./error.jl:33\n  [2] instrument(ir::IRTools.Inner.IR)\n    @ Zygote /opt/julia/packages/Zygote/cCyLF/src/compiler/reverse.jl:121\n  [3] #Primal#20\n    @ /opt/julia/packages/Zygote/cCyLF/src/compiler/reverse.jl:202 [inlined]\n  [4] Zygote.Adjoint(ir::IRTools.Inner.IR; varargs::Nothing, normalise::Bool)\n    @ Zygote /opt/julia/packages/Zygote/cCyLF/src/compiler/reverse.jl:315\n  [5] _generate_pullback_via_decomposition(T::Type)\n    @ Zygote /opt/julia/packages/Zygote/cCyLF/src/compiler/emit.jl:101\n  [6] #s5902#1220\n    @ /opt/julia/packages/Zygote/cCyLF/src/compiler/interface2.jl:28 [inlined]\n  [7] var\"#s5902#1220\"(::Any, ctx::Any, f::Any, args::Any)\n    @ Zygote ./none:0\n  [8] (::Core.GeneratedFunctionStub)(::Any, ::Vararg{Any})\n    @ Core ./boot.jl:580\n  [9] _pullback\n    @ /opt/julia/packages/PyCall/7a7w0/src/pyfncall.jl:11 [inlined]\n [10] _pullback(::Zygote.Context, ::typeof(PyCall._pycall!), ::PyObject, ::PyObject, ::Tuple{Matrix{Int64}, Vector{Int64}}, ::Base.Pairs{Symbol, Union{}, Tuple{}, NamedTuple{(), Tuple{}}})\n    @ Zygote /opt/julia/packages/Zygote/cCyLF/src/compiler/interface2.jl:0\n [11] _pullback\n    @ /opt/julia/packages/PyCall/7a7w0/src/pyfncall.jl:86 [inlined]\n [12] _pullback(::Zygote.Context, ::PyCall.var\"##_#114\", ::Base.Pairs{Symbol, Union{}, Tuple{}, NamedTuple{(), Tuple{}}}, ::PyObject, ::Matrix{Int64}, ::Vector{Int64})\n    @ Zygote /opt/julia/packages/Zygote/cCyLF/src/compiler/interface2.jl:0\n [13] _apply\n    @ ./boot.jl:814 [inlined]\n [14] adjoint\n    @ /opt/julia/packages/Zygote/cCyLF/src/lib/lib.jl:200 [inlined]\n [15] _pullback\n    @ /opt/julia/packages/ZygoteRules/AIbCs/src/adjoint.jl:65 [inlined]\n [16] _pullback\n    @ /opt/julia/packages/PyCall/7a7w0/src/pyfncall.jl:86 [inlined]\n [17] _pullback(::Zygote.Context, ::PyObject, ::Matrix{Int64}, ::Vector{Int64})\n    @ Zygote /opt/julia/packages/Zygote/cCyLF/src/compiler/interface2.jl:0\n [18] _apply(::Function, ::Vararg{Any})\n    @ Core ./boot.jl:814\n [19] adjoint\n    @ /opt/julia/packages/Zygote/cCyLF/src/lib/lib.jl:200 [inlined]\n [20] _pullback\n    @ /opt/julia/packages/ZygoteRules/AIbCs/src/adjoint.jl:65 [inlined]\n [21] _pullback\n    @ /opt/julia/packages/Flux/qAdFM/src/optimise/train.jl:110 [inlined]\n [22] _pullback(::Zygote.Context, ::Flux.Optimise.var\"#39#45\"{PyObject, Tuple{Matrix{Int64}, Vector{Int64}}})\n    @ Zygote /opt/julia/packages/Zygote/cCyLF/src/compiler/interface2.jl:0\n [23] pullback(f::Function, ps::Zygote.Params)\n    @ Zygote /opt/julia/packages/Zygote/cCyLF/src/compiler/interface.jl:352\n [24] gradient(f::Function, args::Zygote.Params)\n    @ Zygote /opt/julia/packages/Zygote/cCyLF/src/compiler/interface.jl:75\n [25] macro expansion\n    @ /opt/julia/packages/Flux/qAdFM/src/optimise/train.jl:109 [inlined]\n [26] macro expansion\n    @ /opt/julia/packages/Juno/n6wyj/src/progress.jl:134 [inlined]\n [27] train!(loss::PyObject, ps::Zygote.Params, data::Vector{Tuple{Matrix{Int64}, Vector{Int64}}}, opt::Flux.Optimise.ADAM; cb::Flux.Optimise.var\"#40#46\")\n    @ Flux.Optimise /opt/julia/packages/Flux/qAdFM/src/optimise/train.jl:107\n [28] train!(loss::PyObject, ps::Zygote.Params, data::Vector{Tuple{Matrix{Int64}, Vector{Int64}}}, opt::Flux.Optimise.ADAM)\n    @ Flux.Optimise /opt/julia/packages/Flux/qAdFM/src/optimise/train.jl:105\n [29] invokelatest(::Any, ::Any, ::Vararg{Any}; kwargs::Base.Pairs{Symbol, Union{}, Tuple{}, NamedTuple{(), Tuple{}}})\n    @ Base ./essentials.jl:716\n [30] invokelatest(::Any, ::Any, ::Vararg{Any})\n    @ Base ./essentials.jl:714\n [31] _pyjlwrap_call(f::Function, args_::Ptr{PyCall.PyObject_struct}, kw_::Ptr{PyCall.PyObject_struct})\n    @ PyCall /opt/julia/packages/PyCall/7a7w0/src/callback.jl:28\n [32] pyjlwrap_call(self_::Ptr{PyCall.PyObject_struct}, args_::Ptr{PyCall.PyObject_struct}, kw_::Ptr{PyCall.PyObject_struct})\n    @ PyCall /opt/julia/packages/PyCall/7a7w0/src/callback.jl:44>"
     ]
    }
   ],
   "source": [
    "data = [(x_train, y_train)]\n",
    "Flux.train_b(loss, parameters, data, Flux.ADAM())"
   ]
  },
  {
   "cell_type": "code",
   "execution_count": null,
   "metadata": {},
   "outputs": [],
   "source": []
  }
 ],
 "metadata": {
  "kernelspec": {
   "display_name": "Python 3 (ipykernel)",
   "language": "python",
   "name": "python3"
  },
  "language_info": {
   "codemirror_mode": {
    "name": "ipython",
    "version": 3
   },
   "file_extension": ".py",
   "mimetype": "text/x-python",
   "name": "python",
   "nbconvert_exporter": "python",
   "pygments_lexer": "ipython3",
   "version": "3.9.10"
  }
 },
 "nbformat": 4,
 "nbformat_minor": 4
}