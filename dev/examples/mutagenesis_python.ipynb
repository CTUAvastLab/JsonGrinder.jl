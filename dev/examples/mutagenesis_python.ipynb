{
 "cells": [
  {
   "cell_type": "markdown",
   "metadata": {},
   "source": [
    "# Mutagenesis Example in Python\n",
    "\n",
    "Following example is the same as the julia version of the \n",
    "Following example demonstrates learning to predict the mutagenicity on Salmonella typhimurium using the [JuliaPy/pyjulia](https://github.com/JuliaPy/pyjulia), and demonstrates how can the JsonGrinder.jl be used entirely from python.\n",
    "\n",
    "We start by installing the pyjulia and use it to install the JsonGrinder and few other packages we need for the example."
   ]
  },
  {
   "cell_type": "code",
   "execution_count": 100,
   "metadata": {},
   "outputs": [
    {
     "name": "stdout",
     "output_type": "stream",
     "text": [
      "Requirement already satisfied: julia in /opt/conda/lib/python3.9/site-packages (0.5.7)\r\n"
     ]
    }
   ],
   "source": [
    "!pip install julia"
   ]
  },
  {
   "cell_type": "code",
   "execution_count": 101,
   "metadata": {},
   "outputs": [
    {
     "data": {
      "text/plain": [
       "'3.9.10 | packaged by conda-forge | (main, Feb  1 2022, 21:24:11) \\n[GCC 9.4.0]'"
      ]
     },
     "execution_count": 101,
     "metadata": {},
     "output_type": "execute_result"
    }
   ],
   "source": [
    "import sys\n",
    "sys.version"
   ]
  },
  {
   "cell_type": "code",
   "execution_count": 102,
   "metadata": {},
   "outputs": [],
   "source": [
    "import julia"
   ]
  },
  {
   "cell_type": "code",
   "execution_count": 103,
   "metadata": {},
   "outputs": [
    {
     "name": "stdout",
     "output_type": "stream",
     "text": [
      "Julia Version 1.7.2\n",
      "Commit bf53498635 (2022-02-06 15:21 UTC)\n",
      "Platform Info:\n",
      "  OS: Linux (x86_64-pc-linux-gnu)\n",
      "  uname: Linux 5.10.16.3-microsoft-standard-WSL2 #1 SMP Fri Apr 2 22:23:49 UTC 2021 x86_64 x86_64\n",
      "  CPU: Intel(R) Core(TM) i7-9850H CPU @ 2.60GHz: \n",
      "              speed         user         nice          sys         idle          irq\n",
      "       #1  2592 MHz     194461 s       1237 s     170373 s    7772769 s          0 s\n",
      "       #2  2592 MHz     256899 s       1058 s     164027 s    7744481 s          0 s\n",
      "       \n",
      "  Memory: 1.9366111755371094 GB (411.5078125 MB free)\n",
      "  Uptime: 870930.18 sec\n",
      "  Load Avg:  3.49  0.79  0.29\n",
      "  WORD_SIZE: 64\n",
      "  LIBM: libopenlibm\n",
      "  LLVM: libLLVM-12.0.1 (ORCJIT, skylake)\n",
      "Environment:\n",
      "  JULIA_DEPOT_PATH = /opt/julia\n",
      "  JULIA_PKGDIR = /opt/julia\n",
      "  JULIA_VERSION = 1.7.2\n",
      "  PATH = /opt/conda/bin:/usr/local/sbin:/usr/local/bin:/usr/sbin:/usr/bin:/sbin:/bin\n",
      "  TERM = xterm-color\n",
      "  HOME = /home/jovyan\n",
      "  XDG_CACHE_HOME = /home/jovyan/.cache/\n",
      "  JULIA_DEPOT_PATH = /opt/julia\n"
     ]
    }
   ],
   "source": [
    "julia.install()"
   ]
  },
  {
   "cell_type": "code",
   "execution_count": 104,
   "metadata": {},
   "outputs": [
    {
     "name": "stderr",
     "output_type": "stream",
     "text": [
      "/opt/conda/lib/python3.9/site-packages/julia/core.py:703: FutureWarning: Accessing `Julia().<name>` to obtain Julia objects is deprecated.  Use `from julia import Main; Main.<name>` or `jl = Julia(); jl.eval('<name>')`.\n",
      "  warnings.warn(\n"
     ]
    },
    {
     "data": {
      "text/plain": [
       "<julia.core.LegacyJulia at 0x7f4db64fad30>"
      ]
     },
     "execution_count": 104,
     "metadata": {},
     "output_type": "execute_result"
    }
   ],
   "source": [
    "from julia import Julia\n",
    "Julia(compiled_modules=False)\n",
    "#Julia(runtime='C:\\\\Users\\\\racinsky\\\\AppData\\\\Local\\\\Programs\\\\Julia-1.7.2\\\\bin\\\\julia.exe')"
   ]
  },
  {
   "cell_type": "code",
   "execution_count": 105,
   "metadata": {},
   "outputs": [
    {
     "data": {
      "text/plain": [
       "<PyCall.jlwrap 1.7.2>"
      ]
     },
     "execution_count": 105,
     "metadata": {},
     "output_type": "execute_result"
    }
   ],
   "source": [
    "from julia import Base\n",
    "Base.VERSION"
   ]
  },
  {
   "cell_type": "markdown",
   "metadata": {},
   "source": [
    "We install the packages using the julia package manager called from python"
   ]
  },
  {
   "cell_type": "code",
   "execution_count": null,
   "metadata": {
    "scrolled": true
   },
   "outputs": [],
   "source": [
    "from julia import Pkg\n",
    "Pkg.add(\"MLDatasets\")\n",
    "Pkg.add(\"Flux\")\n",
    "Pkg.add(\"Mill\")\n",
    "Pkg.add(\"MLDataPattern\")\n",
    "Pkg.add(\"Statistics\")\n",
    "Pkg.add(name=\"JsonGrinder\", rev=\"master\")\n"
   ]
  },
  {
   "cell_type": "markdown",
   "metadata": {},
   "source": [
    "Here we include libraries all necessary libraries"
   ]
  },
  {
   "cell_type": "code",
   "execution_count": null,
   "metadata": {},
   "outputs": [],
   "source": [
    "from julia import JsonGrinder, MLDatasets, Flux, Mill, MLDataPattern, Statistics"
   ]
  },
  {
   "cell_type": "markdown",
   "metadata": {},
   "source": [
    "Here we load all samples."
   ]
  },
  {
   "cell_type": "code",
   "execution_count": null,
   "metadata": {},
   "outputs": [],
   "source": [
    "Base.ENV[\"DATADEPS_ALWAYS_ACCEPT\"] = True"
   ]
  },
  {
   "cell_type": "code",
   "execution_count": 27,
   "metadata": {},
   "outputs": [
    {
     "name": "stdout",
     "output_type": "stream",
     "text": [
      "This program has requested access to the data dependency Mutagenesis.\n",
      "which is not currently installed. It can be installed automatically, and you will not see this message again.\n",
      "\n",
      "Dataset: The Mutagenesis dataset.\n",
      "Website: https://relational.fit.cvut.cz/dataset/Mutagenesis\n",
      "License: CC0\n",
      "\n",
      "\n",
      "\n",
      "Do you want to download the dataset from [\"https://raw.githubusercontent.com/CTUAvastLab/datasets/main/mutagenesis/data.json\", \"https://raw.githubusercontent.com/CTUAvastLab/datasets/main/mutagenesis/meta.json\"] to \"/opt/julia/datadeps/Mutagenesis\"?\n",
      "[y/n]\n"
     ]
    },
    {
     "ename": "RuntimeError",
     "evalue": "<PyCall.jlwrap (in a Julia function called from Python)\nJULIA: IOError: Could not open stream.\nStacktrace:\n  [1] better_readline(stream::Base.PipeEndpoint)\n    @ DataDeps /opt/julia/packages/DataDeps/ooWXe/src/util.jl:57\n  [2] better_readline()\n    @ DataDeps /opt/julia/packages/DataDeps/ooWXe/src/util.jl:55\n  [3] input_choice(::String, ::Char, ::Vararg{Char})\n    @ DataDeps /opt/julia/packages/DataDeps/ooWXe/src/util.jl:82\n  [4] input_bool\n    @ /opt/julia/packages/DataDeps/ooWXe/src/util.jl:70 [inlined]\n  [5] check_if_accept_terms(datadep::DataDeps.DataDep{String, Vector{String}, typeof(DataDeps.fetch_default), typeof(identity)}, localpath::String, remotepath::Vector{String})\n    @ DataDeps /opt/julia/packages/DataDeps/ooWXe/src/resolution_automatic.jl:180\n  [6] accept_terms\n    @ /opt/julia/packages/DataDeps/ooWXe/src/resolution_automatic.jl:163 [inlined]\n  [7] download(datadep::DataDeps.DataDep{String, Vector{String}, typeof(DataDeps.fetch_default), typeof(identity)}, localdir::String; remotepath::Vector{String}, i_accept_the_terms_of_use::Nothing, skip_checksum::Bool)\n    @ DataDeps /opt/julia/packages/DataDeps/ooWXe/src/resolution_automatic.jl:72\n  [8] download\n    @ /opt/julia/packages/DataDeps/ooWXe/src/resolution_automatic.jl:70 [inlined]\n  [9] handle_missing\n    @ /opt/julia/packages/DataDeps/ooWXe/src/resolution_automatic.jl:10 [inlined]\n [10] _resolve\n    @ /opt/julia/packages/DataDeps/ooWXe/src/resolution.jl:83 [inlined]\n [11] resolve(datadep::DataDeps.DataDep{String, Vector{String}, typeof(DataDeps.fetch_default), typeof(identity)}, inner_filepath::String, calling_filepath::String)\n    @ DataDeps /opt/julia/packages/DataDeps/ooWXe/src/resolution.jl:29\n [12] resolve(datadep_name::String, inner_filepath::String, calling_filepath::String)\n    @ DataDeps /opt/julia/packages/DataDeps/ooWXe/src/resolution.jl:54\n [13] resolve\n    @ /opt/julia/packages/DataDeps/ooWXe/src/resolution.jl:73 [inlined]\n [14] #2\n    @ /opt/julia/packages/MLDatasets/PtJ0E/src/download.jl:17 [inlined]\n [15] withenv(f::MLDatasets.var\"#2#3\"{String, Nothing}, keyvals::Pair{String, String})\n    @ Base ./env.jl:172\n [16] with_accept\n    @ /opt/julia/packages/MLDatasets/PtJ0E/src/download.jl:10 [inlined]\n [17] #datadir#1\n    @ /opt/julia/packages/MLDatasets/PtJ0E/src/download.jl:14 [inlined]\n [18] datadir\n    @ /opt/julia/packages/MLDatasets/PtJ0E/src/download.jl:14 [inlined]\n [19] datafile(depname::String, filename::String, dir::Nothing; recurse::Bool, kw::Base.Pairs{Symbol, Union{}, Tuple{}, NamedTuple{(), Tuple{}}})\n    @ MLDatasets /opt/julia/packages/MLDatasets/PtJ0E/src/download.jl:32\n [20] datafile\n    @ /opt/julia/packages/MLDatasets/PtJ0E/src/download.jl:32 [inlined]\n [21] load_data(dir::Nothing)\n    @ MLDatasets.Mutagenesis /opt/julia/packages/MLDatasets/PtJ0E/src/Mutagenesis/Mutagenesis.jl:81\n [22] traindata(dir::Nothing)\n    @ MLDatasets.Mutagenesis /opt/julia/packages/MLDatasets/PtJ0E/src/Mutagenesis/Mutagenesis.jl:66\n [23] #traindata#1\n    @ /opt/julia/packages/MLDatasets/PtJ0E/src/Mutagenesis/Mutagenesis.jl:61 [inlined]\n [24] traindata()\n    @ MLDatasets.Mutagenesis /opt/julia/packages/MLDatasets/PtJ0E/src/Mutagenesis/Mutagenesis.jl:61\n [25] #invokelatest#2\n    @ ./essentials.jl:716 [inlined]\n [26] invokelatest(::Any)\n    @ Base ./essentials.jl:714\n [27] _pyjlwrap_call(f::Function, args_::Ptr{PyCall.PyObject_struct}, kw_::Ptr{PyCall.PyObject_struct})\n    @ PyCall /opt/julia/packages/PyCall/7a7w0/src/callback.jl:28\n [28] pyjlwrap_call(self_::Ptr{PyCall.PyObject_struct}, args_::Ptr{PyCall.PyObject_struct}, kw_::Ptr{PyCall.PyObject_struct})\n    @ PyCall /opt/julia/packages/PyCall/7a7w0/src/callback.jl:44>",
     "output_type": "error",
     "traceback": [
      "\u001b[0;31m---------------------------------------------------------------------------\u001b[0m",
      "\u001b[0;31mRuntimeError\u001b[0m                              Traceback (most recent call last)",
      "Input \u001b[0;32mIn [27]\u001b[0m, in \u001b[0;36m<module>\u001b[0;34m\u001b[0m\n\u001b[0;32m----> 1\u001b[0m train_x, train_y \u001b[38;5;241m=\u001b[39m \u001b[43mMLDatasets\u001b[49m\u001b[38;5;241;43m.\u001b[39;49m\u001b[43mMutagenesis\u001b[49m\u001b[38;5;241;43m.\u001b[39;49m\u001b[43mtraindata\u001b[49m\u001b[43m(\u001b[49m\u001b[43m)\u001b[49m;\n\u001b[1;32m      2\u001b[0m test_x, test_y \u001b[38;5;241m=\u001b[39m MLDatasets\u001b[38;5;241m.\u001b[39mMutagenesis\u001b[38;5;241m.\u001b[39mtestdata()\n",
      "\u001b[0;31mRuntimeError\u001b[0m: <PyCall.jlwrap (in a Julia function called from Python)\nJULIA: IOError: Could not open stream.\nStacktrace:\n  [1] better_readline(stream::Base.PipeEndpoint)\n    @ DataDeps /opt/julia/packages/DataDeps/ooWXe/src/util.jl:57\n  [2] better_readline()\n    @ DataDeps /opt/julia/packages/DataDeps/ooWXe/src/util.jl:55\n  [3] input_choice(::String, ::Char, ::Vararg{Char})\n    @ DataDeps /opt/julia/packages/DataDeps/ooWXe/src/util.jl:82\n  [4] input_bool\n    @ /opt/julia/packages/DataDeps/ooWXe/src/util.jl:70 [inlined]\n  [5] check_if_accept_terms(datadep::DataDeps.DataDep{String, Vector{String}, typeof(DataDeps.fetch_default), typeof(identity)}, localpath::String, remotepath::Vector{String})\n    @ DataDeps /opt/julia/packages/DataDeps/ooWXe/src/resolution_automatic.jl:180\n  [6] accept_terms\n    @ /opt/julia/packages/DataDeps/ooWXe/src/resolution_automatic.jl:163 [inlined]\n  [7] download(datadep::DataDeps.DataDep{String, Vector{String}, typeof(DataDeps.fetch_default), typeof(identity)}, localdir::String; remotepath::Vector{String}, i_accept_the_terms_of_use::Nothing, skip_checksum::Bool)\n    @ DataDeps /opt/julia/packages/DataDeps/ooWXe/src/resolution_automatic.jl:72\n  [8] download\n    @ /opt/julia/packages/DataDeps/ooWXe/src/resolution_automatic.jl:70 [inlined]\n  [9] handle_missing\n    @ /opt/julia/packages/DataDeps/ooWXe/src/resolution_automatic.jl:10 [inlined]\n [10] _resolve\n    @ /opt/julia/packages/DataDeps/ooWXe/src/resolution.jl:83 [inlined]\n [11] resolve(datadep::DataDeps.DataDep{String, Vector{String}, typeof(DataDeps.fetch_default), typeof(identity)}, inner_filepath::String, calling_filepath::String)\n    @ DataDeps /opt/julia/packages/DataDeps/ooWXe/src/resolution.jl:29\n [12] resolve(datadep_name::String, inner_filepath::String, calling_filepath::String)\n    @ DataDeps /opt/julia/packages/DataDeps/ooWXe/src/resolution.jl:54\n [13] resolve\n    @ /opt/julia/packages/DataDeps/ooWXe/src/resolution.jl:73 [inlined]\n [14] #2\n    @ /opt/julia/packages/MLDatasets/PtJ0E/src/download.jl:17 [inlined]\n [15] withenv(f::MLDatasets.var\"#2#3\"{String, Nothing}, keyvals::Pair{String, String})\n    @ Base ./env.jl:172\n [16] with_accept\n    @ /opt/julia/packages/MLDatasets/PtJ0E/src/download.jl:10 [inlined]\n [17] #datadir#1\n    @ /opt/julia/packages/MLDatasets/PtJ0E/src/download.jl:14 [inlined]\n [18] datadir\n    @ /opt/julia/packages/MLDatasets/PtJ0E/src/download.jl:14 [inlined]\n [19] datafile(depname::String, filename::String, dir::Nothing; recurse::Bool, kw::Base.Pairs{Symbol, Union{}, Tuple{}, NamedTuple{(), Tuple{}}})\n    @ MLDatasets /opt/julia/packages/MLDatasets/PtJ0E/src/download.jl:32\n [20] datafile\n    @ /opt/julia/packages/MLDatasets/PtJ0E/src/download.jl:32 [inlined]\n [21] load_data(dir::Nothing)\n    @ MLDatasets.Mutagenesis /opt/julia/packages/MLDatasets/PtJ0E/src/Mutagenesis/Mutagenesis.jl:81\n [22] traindata(dir::Nothing)\n    @ MLDatasets.Mutagenesis /opt/julia/packages/MLDatasets/PtJ0E/src/Mutagenesis/Mutagenesis.jl:66\n [23] #traindata#1\n    @ /opt/julia/packages/MLDatasets/PtJ0E/src/Mutagenesis/Mutagenesis.jl:61 [inlined]\n [24] traindata()\n    @ MLDatasets.Mutagenesis /opt/julia/packages/MLDatasets/PtJ0E/src/Mutagenesis/Mutagenesis.jl:61\n [25] #invokelatest#2\n    @ ./essentials.jl:716 [inlined]\n [26] invokelatest(::Any)\n    @ Base ./essentials.jl:714\n [27] _pyjlwrap_call(f::Function, args_::Ptr{PyCall.PyObject_struct}, kw_::Ptr{PyCall.PyObject_struct})\n    @ PyCall /opt/julia/packages/PyCall/7a7w0/src/callback.jl:28\n [28] pyjlwrap_call(self_::Ptr{PyCall.PyObject_struct}, args_::Ptr{PyCall.PyObject_struct}, kw_::Ptr{PyCall.PyObject_struct})\n    @ PyCall /opt/julia/packages/PyCall/7a7w0/src/callback.jl:44>"
     ]
    }
   ],
   "source": [
    "train_x, train_y = MLDatasets.Mutagenesis.traindata();\n",
    "test_x, test_y = MLDatasets.Mutagenesis.testdata();"
   ]
  },
  {
   "cell_type": "markdown",
   "metadata": {},
   "source": [
    "We define some basic parameters for the construction and training of the neural network. Minibatch size is self-explanatory, iterations is number of iterations of gradient descent Neurons is number of neurons in hidden layers for each version of part of the neural network."
   ]
  },
  {
   "cell_type": "code",
   "execution_count": null,
   "metadata": {},
   "outputs": [],
   "source": [
    "minibatchsize = 100\n",
    "iterations = 5_000\n",
    "neurons = 20"
   ]
  },
  {
   "cell_type": "markdown",
   "metadata": {},
   "source": [
    "We create the schema of the training data, which is the first important step in using the JsonGrinder. This computes both the structure (also known as JSON schema) and histogram of occurrences of individual values in the training data."
   ]
  },
  {
   "cell_type": "code",
   "execution_count": null,
   "metadata": {},
   "outputs": [],
   "source": [
    "sch = JsonGrinder.schema(train_x)"
   ]
  },
  {
   "cell_type": "markdown",
   "metadata": {},
   "source": [
    "Then we use it to create the extractor converting jsons to Mill structures. The suggestextractor is executed below with default setting, but it allows you heavy customization. We also prepare list of classes. This classification problem is two-class, but we want to infer it from labels."
   ]
  },
  {
   "cell_type": "code",
   "execution_count": null,
   "metadata": {},
   "outputs": [],
   "source": [
    "extractor = suggestextractor(sch)\n",
    "labelnames = unique(train_y)"
   ]
  },
  {
   "cell_type": "markdown",
   "metadata": {},
   "source": [
    "# Create the model\n",
    "We create the model reflecting structure of the data"
   ]
  },
  {
   "cell_type": "code",
   "execution_count": null,
   "metadata": {},
   "outputs": [],
   "source": [
    "model = reflectinmodel(sch, extractor,\n",
    "\tlayer -> Dense(layer, neurons, relu),\n",
    "\tbag -> SegmentedMeanMax(bag),\n",
    "\tfsm = Dict(\"\" => layer -> Dense(layer, length(labelnames))),\n",
    ")"
   ]
  },
  {
   "cell_type": "markdown",
   "metadata": {},
   "source": [
    "We convert jsons to mill data samples and prepare list of classes. This classification problem is two-class, but we want to infer it from labels. The extractor is callable, so we can pass it vector of samples to obtain vector of structures with extracted features."
   ]
  },
  {
   "cell_type": "code",
   "execution_count": null,
   "metadata": {},
   "outputs": [],
   "source": [
    "train_data = extractor.(train_x)\n",
    "test_data = extractor.(test_x)"
   ]
  }
 ],
 "metadata": {
  "kernelspec": {
   "display_name": "Python 3 (ipykernel)",
   "language": "python",
   "name": "python3"
  },
  "language_info": {
   "codemirror_mode": {
    "name": "ipython",
    "version": 3
   },
   "file_extension": ".py",
   "mimetype": "text/x-python",
   "name": "python",
   "nbconvert_exporter": "python",
   "pygments_lexer": "ipython3",
   "version": "3.9.10"
  }
 },
 "nbformat": 4,
 "nbformat_minor": 4
}
