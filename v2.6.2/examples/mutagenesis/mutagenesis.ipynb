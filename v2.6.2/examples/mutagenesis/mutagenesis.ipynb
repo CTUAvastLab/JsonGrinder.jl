{
 "cells": [
  {
   "cell_type": "markdown",
   "source": [
    "# Mutagenesis"
   ],
   "metadata": {}
  },
  {
   "cell_type": "markdown",
   "source": [
    "This example demonstrates how to predict [the mutagenicity on Salmonella typhimurium](https://relational.fel.cvut.cz/dataset/Mutagenesis)."
   ],
   "metadata": {}
  },
  {
   "cell_type": "markdown",
   "source": [
    "The full environment, the script and the data are accessible [here](https://github.com/CTUAvastLab/JsonGrinder.jl/tree/master/docs/src/examples/mutagenesis)."
   ],
   "metadata": {}
  },
  {
   "cell_type": "markdown",
   "source": [
    "We start by activating the environment and installing required packages"
   ],
   "metadata": {}
  },
  {
   "outputs": [
    {
     "name": "stdout",
     "output_type": "stream",
     "text": [
      "  Activating project at `~/work/JsonGrinder.jl/JsonGrinder.jl/docs/src/examples/mutagenesis`\n",
      "Status `~/work/JsonGrinder.jl/JsonGrinder.jl/docs/src/examples/mutagenesis/Project.toml`\n",
      "⌅ [587475ba] Flux v0.14.25\n",
      "  [682c06a0] JSON v0.21.4\n",
      "  [d201646e] JsonGrinder v2.6.2\n",
      "  [f1d291b0] MLUtils v0.4.4\n",
      "  [1d0525e4] Mill v2.11.2\n",
      "Info Packages marked with ⌅ have new versions available but compatibility constraints restrict them from upgrading. To see why use `status --outdated`\n"
     ]
    }
   ],
   "cell_type": "code",
   "source": [
    "using Pkg\n",
    "Pkg.activate(pwd())\n",
    "Pkg.instantiate()\n",
    "Pkg.status()"
   ],
   "metadata": {},
   "execution_count": 1
  },
  {
   "cell_type": "markdown",
   "source": [
    "We load all dependencies and fix the seed:"
   ],
   "metadata": {}
  },
  {
   "outputs": [],
   "cell_type": "code",
   "source": [
    "using JsonGrinder, Mill, Flux, JSON, MLUtils, Statistics\n",
    "\n",
    "using Random; Random.seed!(42);"
   ],
   "metadata": {},
   "execution_count": 2
  },
  {
   "cell_type": "markdown",
   "source": [
    "### Loading the data"
   ],
   "metadata": {}
  },
  {
   "cell_type": "markdown",
   "source": [
    "we load the dataset (available ), and split it into training and testing set."
   ],
   "metadata": {}
  },
  {
   "outputs": [],
   "cell_type": "code",
   "source": [
    "dataset = JSON.parsefile(\"mutagenesis.json\");\n",
    "jss_train, jss_test = dataset[1:100], dataset[101:end];"
   ],
   "metadata": {},
   "execution_count": 3
  },
  {
   "cell_type": "markdown",
   "source": [
    "`jss_train` and `jss_test` are just lists of parsed JSONs:"
   ],
   "metadata": {}
  },
  {
   "outputs": [
    {
     "output_type": "execute_result",
     "data": {
      "text/plain": "Dict{String, Any} with 6 entries:\n  \"ind1\"      => 1\n  \"lumo\"      => -1.246\n  \"inda\"      => 0\n  \"logp\"      => 4.23\n  \"mutagenic\" => 1\n  \"atoms\"     => Any[Dict{String, Any}(\"element\"=>\"c\", \"atom_type\"=>22, \"bonds\"…"
     },
     "metadata": {},
     "execution_count": 4
    }
   ],
   "cell_type": "code",
   "source": [
    "jss_train[1]"
   ],
   "metadata": {},
   "execution_count": 4
  },
  {
   "cell_type": "markdown",
   "source": [
    "We also extract binary labels, which are stored in the `\"mutagenic\"` key:"
   ],
   "metadata": {}
  },
  {
   "outputs": [
    {
     "output_type": "execute_result",
     "data": {
      "text/plain": "100-element Vector{Int64}:\n 1\n 1\n 0\n 1\n 1\n 1\n 1\n 1\n 1\n 1\n ⋮\n 0\n 0\n 1\n 1\n 0\n 0\n 1\n 0\n 0"
     },
     "metadata": {},
     "execution_count": 5
    }
   ],
   "cell_type": "code",
   "source": [
    "y_train = getindex.(jss_train, \"mutagenic\");\n",
    "y_test = getindex.(jss_test, \"mutagenic\");\n",
    "y_train"
   ],
   "metadata": {},
   "execution_count": 5
  },
  {
   "cell_type": "markdown",
   "source": [
    "We first create the `schema` of the training data, which is the first important step in using the\n",
    "[`JsonGrinder.jl`](https://github.com/CTUAvastLab/JsonGrinder.jl).\n",
    "This infers both the hierarchical structure of the documents and basic statistics of individual values."
   ],
   "metadata": {}
  },
  {
   "outputs": [
    {
     "output_type": "execute_result",
     "data": {
      "text/plain": "\u001b[34mDictEntry\u001b[39m\u001b[90m\u001b[3m 100x updated\u001b[23m\u001b[39m\n\u001b[34m  ├────── atoms: \u001b[39m\u001b[31mArrayEntry\u001b[39m\u001b[90m\u001b[3m 100x updated\u001b[23m\u001b[39m\n\u001b[34m  │              \u001b[39m\u001b[31m  ╰── \u001b[39m\u001b[32mDictEntry\u001b[39m\u001b[90m\u001b[3m 2529x updated\u001b[23m\u001b[39m\n\u001b[34m  │              \u001b[39m\u001b[31m      \u001b[39m\u001b[32m  ├── atom_type: \u001b[39m\u001b[39mLeafEntry (28 unique `Real` values)\u001b[90m\u001b[3m 25 \u001b[23m\u001b[39m\u001b[90m⋯\u001b[39m\n\u001b[34m  │              \u001b[39m\u001b[31m      \u001b[39m\u001b[32m  ├────── bonds: \u001b[39m\u001b[33mArrayEntry\u001b[39m\u001b[90m\u001b[3m 2529x updated\u001b[23m\u001b[39m\n\u001b[34m  │              \u001b[39m\u001b[31m      \u001b[39m\u001b[32m  │              \u001b[39m\u001b[33m  ╰── \u001b[39m\u001b[36mDictEntry\u001b[39m\u001b[90m\u001b[3m 5402x updated\u001b[23m\u001b[39m\n\u001b[34m  │              \u001b[39m\u001b[31m      \u001b[39m\u001b[32m  │              \u001b[39m\u001b[33m      \u001b[39m\u001b[36m  ┊\u001b[39m\n\u001b[34m  │              \u001b[39m\u001b[31m      \u001b[39m\u001b[32m  ├───── charge: \u001b[39m\u001b[39mLeafEntry (318 unique `Real` values)\u001b[90m\u001b[3m 2 \u001b[23m\u001b[39m\u001b[90m⋯\u001b[39m\n\u001b[34m  │              \u001b[39m\u001b[31m      \u001b[39m\u001b[32m  ╰──── element: \u001b[39m\u001b[39mLeafEntry (6 unique `String` values)\u001b[90m\u001b[3m 2 \u001b[23m\u001b[39m\u001b[90m⋯\u001b[39m\n\u001b[34m  ├─────── ind1: \u001b[39m\u001b[39mLeafEntry (2 unique `Real` values)\u001b[90m\u001b[3m 100x updated\u001b[23m\u001b[39m\n\u001b[34m  ├─────── inda: \u001b[39m\u001b[39mLeafEntry (1 unique `Real` values)\u001b[90m\u001b[3m 100x updated\u001b[23m\u001b[39m\n\u001b[34m  ├─────── logp: \u001b[39m\u001b[39mLeafEntry (62 unique `Real` values)\u001b[90m\u001b[3m 100x updated\u001b[23m\u001b[39m\n\u001b[34m  ├─────── lumo: \u001b[39m\u001b[39mLeafEntry (98 unique `Real` values)\u001b[90m\u001b[3m 100x updated\u001b[23m\u001b[39m\n\u001b[34m  ╰── mutagenic: \u001b[39m\u001b[39mLeafEntry (2 unique `Real` values)\u001b[90m\u001b[3m 100x updated\u001b[23m\u001b[39m"
     },
     "metadata": {},
     "execution_count": 6
    }
   ],
   "cell_type": "code",
   "source": [
    "sch = schema(jss_train)"
   ],
   "metadata": {},
   "execution_count": 6
  },
  {
   "cell_type": "markdown",
   "source": [
    "Of course, we have to remove the `\"mutagenic\"` key from the schema, as we don't want to include it\n",
    "in the data:"
   ],
   "metadata": {}
  },
  {
   "outputs": [
    {
     "output_type": "execute_result",
     "data": {
      "text/plain": "\u001b[34mDictEntry\u001b[39m\u001b[90m\u001b[3m 100x updated\u001b[23m\u001b[39m\n\u001b[34m  ├── atoms: \u001b[39m\u001b[31mArrayEntry\u001b[39m\u001b[90m\u001b[3m 100x updated\u001b[23m\u001b[39m\n\u001b[34m  │          \u001b[39m\u001b[31m  ╰── \u001b[39m\u001b[32mDictEntry\u001b[39m\u001b[90m\u001b[3m 2529x updated\u001b[23m\u001b[39m\n\u001b[34m  │          \u001b[39m\u001b[31m      \u001b[39m\u001b[32m  ├── atom_type: \u001b[39m\u001b[39mLeafEntry (28 unique `Real` values)\u001b[90m\u001b[3m 2529x  \u001b[23m\u001b[39m\u001b[90m⋯\u001b[39m\n\u001b[34m  │          \u001b[39m\u001b[31m      \u001b[39m\u001b[32m  ├────── bonds: \u001b[39m\u001b[33mArrayEntry\u001b[39m\u001b[90m\u001b[3m 2529x updated\u001b[23m\u001b[39m\n\u001b[34m  │          \u001b[39m\u001b[31m      \u001b[39m\u001b[32m  │              \u001b[39m\u001b[33m  ╰── \u001b[39m\u001b[36mDictEntry\u001b[39m\u001b[90m\u001b[3m 5402x updated\u001b[23m\u001b[39m\n\u001b[34m  │          \u001b[39m\u001b[31m      \u001b[39m\u001b[32m  │              \u001b[39m\u001b[33m      \u001b[39m\u001b[36m  ┊\u001b[39m\n\u001b[34m  │          \u001b[39m\u001b[31m      \u001b[39m\u001b[32m  ├───── charge: \u001b[39m\u001b[39mLeafEntry (318 unique `Real` values)\u001b[90m\u001b[3m 2529x \u001b[23m\u001b[39m\u001b[90m⋯\u001b[39m\n\u001b[34m  │          \u001b[39m\u001b[31m      \u001b[39m\u001b[32m  ╰──── element: \u001b[39m\u001b[39mLeafEntry (6 unique `String` values)\u001b[90m\u001b[3m 2529x \u001b[23m\u001b[39m\u001b[90m⋯\u001b[39m\n\u001b[34m  ├─── ind1: \u001b[39m\u001b[39mLeafEntry (2 unique `Real` values)\u001b[90m\u001b[3m 100x updated\u001b[23m\u001b[39m\n\u001b[34m  ├─── inda: \u001b[39m\u001b[39mLeafEntry (1 unique `Real` values)\u001b[90m\u001b[3m 100x updated\u001b[23m\u001b[39m\n\u001b[34m  ├─── logp: \u001b[39m\u001b[39mLeafEntry (62 unique `Real` values)\u001b[90m\u001b[3m 100x updated\u001b[23m\u001b[39m\n\u001b[34m  ╰─── lumo: \u001b[39m\u001b[39mLeafEntry (98 unique `Real` values)\u001b[90m\u001b[3m 100x updated\u001b[23m\u001b[39m"
     },
     "metadata": {},
     "execution_count": 7
    }
   ],
   "cell_type": "code",
   "source": [
    "delete!(sch, :mutagenic);\n",
    "sch"
   ],
   "metadata": {},
   "execution_count": 7
  },
  {
   "cell_type": "markdown",
   "source": [
    "Now we create an extractor capable of converting JSONs to [`Mill.jl`](https://github.com/CTUAvastLab/Mill.jl) structures.\n",
    "We use function `suggestextractor` with the default settings:"
   ],
   "metadata": {}
  },
  {
   "outputs": [
    {
     "output_type": "execute_result",
     "data": {
      "text/plain": "\u001b[34mDictExtractor\u001b[39m\n\u001b[34m  ├─── lumo: \u001b[39m\u001b[39mCategoricalExtractor(n=99)\n\u001b[34m  ├─── inda: \u001b[39m\u001b[39mCategoricalExtractor(n=2)\n\u001b[34m  ├─── logp: \u001b[39m\u001b[39mCategoricalExtractor(n=63)\n\u001b[34m  ├─── ind1: \u001b[39m\u001b[39mCategoricalExtractor(n=3)\n\u001b[34m  ╰── atoms: \u001b[39m\u001b[31mArrayExtractor\u001b[39m\n\u001b[34m             \u001b[39m\u001b[31m  ╰── \u001b[39m\u001b[32mDictExtractor\u001b[39m\n\u001b[34m             \u001b[39m\u001b[31m      \u001b[39m\u001b[32m  ├──── element: \u001b[39m\u001b[39mCategoricalExtractor(n=7)\n\u001b[34m             \u001b[39m\u001b[31m      \u001b[39m\u001b[32m  ├────── bonds: \u001b[39m\u001b[33mArrayExtractor\u001b[39m\n\u001b[34m             \u001b[39m\u001b[31m      \u001b[39m\u001b[32m  │              \u001b[39m\u001b[33m  ╰── \u001b[39m\u001b[36mDictExtractor\u001b[39m\n\u001b[34m             \u001b[39m\u001b[31m      \u001b[39m\u001b[32m  │              \u001b[39m\u001b[33m      \u001b[39m\u001b[36m  ┊\u001b[39m\n\u001b[34m             \u001b[39m\u001b[31m      \u001b[39m\u001b[32m  ├───── charge: \u001b[39m\u001b[39mScalarExtractor(c=-0.781, s=0.60790277)\n\u001b[34m             \u001b[39m\u001b[31m      \u001b[39m\u001b[32m  ╰── atom_type: \u001b[39m\u001b[39mCategoricalExtractor(n=29)"
     },
     "metadata": {},
     "execution_count": 8
    }
   ],
   "cell_type": "code",
   "source": [
    "e = suggestextractor(sch)"
   ],
   "metadata": {},
   "execution_count": 8
  },
  {
   "cell_type": "markdown",
   "source": [
    "We also need to convert JSONs to [`Mill.jl`](https://github.com/CTUAvastLab/Mill.jl) data samples.\n",
    "Extractor `e` is callable, we can use it to extract one document as follows:"
   ],
   "metadata": {}
  },
  {
   "outputs": [
    {
     "output_type": "execute_result",
     "data": {
      "text/plain": "\u001b[34mProductNode\u001b[39m\u001b[90m\u001b[3m  1 obs\u001b[23m\u001b[39m\n\u001b[34m  ├─── lumo: \u001b[39m\u001b[39mArrayNode(99×1 OneHotArray with Bool elements)\u001b[90m\u001b[3m  1 obs\u001b[23m\u001b[39m\n\u001b[34m  ├─── inda: \u001b[39m\u001b[39mArrayNode(2×1 OneHotArray with Bool elements)\u001b[90m\u001b[3m  1 obs\u001b[23m\u001b[39m\n\u001b[34m  ├─── logp: \u001b[39m\u001b[39mArrayNode(63×1 OneHotArray with Bool elements)\u001b[90m\u001b[3m  1 obs\u001b[23m\u001b[39m\n\u001b[34m  ├─── ind1: \u001b[39m\u001b[39mArrayNode(3×1 OneHotArray with Bool elements)\u001b[90m\u001b[3m  1 obs\u001b[23m\u001b[39m\n\u001b[34m  ╰── atoms: \u001b[39m\u001b[31mBagNode\u001b[39m\u001b[90m\u001b[3m  1 obs\u001b[23m\u001b[39m\n\u001b[34m             \u001b[39m\u001b[31m  ╰── \u001b[39m\u001b[32mProductNode\u001b[39m\u001b[90m\u001b[3m  26 obs\u001b[23m\u001b[39m\n\u001b[34m             \u001b[39m\u001b[31m      \u001b[39m\u001b[32m  ├──── element: \u001b[39m\u001b[39mArrayNode(7×26 OneHotArray with Bool eleme \u001b[90m⋯\u001b[39m\n\u001b[34m             \u001b[39m\u001b[31m      \u001b[39m\u001b[32m  ├────── bonds: \u001b[39m\u001b[33mBagNode\u001b[39m\u001b[90m\u001b[3m  26 obs\u001b[23m\u001b[39m\n\u001b[34m             \u001b[39m\u001b[31m      \u001b[39m\u001b[32m  │              \u001b[39m\u001b[33m  ╰── \u001b[39m\u001b[36mProductNode\u001b[39m\u001b[90m\u001b[3m  56 obs\u001b[23m\u001b[39m\n\u001b[34m             \u001b[39m\u001b[31m      \u001b[39m\u001b[32m  │              \u001b[39m\u001b[33m      \u001b[39m\u001b[36m  ┊\u001b[39m\n\u001b[34m             \u001b[39m\u001b[31m      \u001b[39m\u001b[32m  ├───── charge: \u001b[39m\u001b[39mArrayNode(1×26 Array with Float32 elements \u001b[90m⋯\u001b[39m\n\u001b[34m             \u001b[39m\u001b[31m      \u001b[39m\u001b[32m  ╰── atom_type: \u001b[39m\u001b[39mArrayNode(29×26 OneHotArray with Bool elem \u001b[90m⋯\u001b[39m"
     },
     "metadata": {},
     "execution_count": 9
    }
   ],
   "cell_type": "code",
   "source": [
    "x_single = e(jss_train[1])"
   ],
   "metadata": {},
   "execution_count": 9
  },
  {
   "cell_type": "markdown",
   "source": [
    "To extract a batch of 10 documents, we can extract individual documents and then `Mill.catobs` them:"
   ],
   "metadata": {}
  },
  {
   "outputs": [
    {
     "output_type": "execute_result",
     "data": {
      "text/plain": "\u001b[34mProductNode\u001b[39m\u001b[90m\u001b[3m  10 obs\u001b[23m\u001b[39m\n\u001b[34m  ├─── lumo: \u001b[39m\u001b[39mArrayNode(99×10 OneHotArray with Bool elements)\u001b[90m\u001b[3m  10 obs\u001b[23m\u001b[39m\n\u001b[34m  ├─── inda: \u001b[39m\u001b[39mArrayNode(2×10 OneHotArray with Bool elements)\u001b[90m\u001b[3m  10 obs\u001b[23m\u001b[39m\n\u001b[34m  ├─── logp: \u001b[39m\u001b[39mArrayNode(63×10 OneHotArray with Bool elements)\u001b[90m\u001b[3m  10 obs\u001b[23m\u001b[39m\n\u001b[34m  ├─── ind1: \u001b[39m\u001b[39mArrayNode(3×10 OneHotArray with Bool elements)\u001b[90m\u001b[3m  10 obs\u001b[23m\u001b[39m\n\u001b[34m  ╰── atoms: \u001b[39m\u001b[31mBagNode\u001b[39m\u001b[90m\u001b[3m  10 obs\u001b[23m\u001b[39m\n\u001b[34m             \u001b[39m\u001b[31m  ╰── \u001b[39m\u001b[32mProductNode\u001b[39m\u001b[90m\u001b[3m  299 obs\u001b[23m\u001b[39m\n\u001b[34m             \u001b[39m\u001b[31m      \u001b[39m\u001b[32m  ├──── element: \u001b[39m\u001b[39mArrayNode(7×299 OneHotArray with Bool elem \u001b[90m⋯\u001b[39m\n\u001b[34m             \u001b[39m\u001b[31m      \u001b[39m\u001b[32m  ├────── bonds: \u001b[39m\u001b[33mBagNode\u001b[39m\u001b[90m\u001b[3m  299 obs\u001b[23m\u001b[39m\n\u001b[34m             \u001b[39m\u001b[31m      \u001b[39m\u001b[32m  │              \u001b[39m\u001b[33m  ╰── \u001b[39m\u001b[36mProductNode\u001b[39m\u001b[90m\u001b[3m  650 obs\u001b[23m\u001b[39m\n\u001b[34m             \u001b[39m\u001b[31m      \u001b[39m\u001b[32m  │              \u001b[39m\u001b[33m      \u001b[39m\u001b[36m  ┊\u001b[39m\n\u001b[34m             \u001b[39m\u001b[31m      \u001b[39m\u001b[32m  ├───── charge: \u001b[39m\u001b[39mArrayNode(1×299 Array with Float32 element \u001b[90m⋯\u001b[39m\n\u001b[34m             \u001b[39m\u001b[31m      \u001b[39m\u001b[32m  ╰── atom_type: \u001b[39m\u001b[39mArrayNode(29×299 OneHotArray with Bool ele \u001b[90m⋯\u001b[39m"
     },
     "metadata": {},
     "execution_count": 10
    }
   ],
   "cell_type": "code",
   "source": [
    "x_batch = reduce(catobs, e.(jss_train[1:10]))"
   ],
   "metadata": {},
   "execution_count": 10
  },
  {
   "cell_type": "markdown",
   "source": [
    "Or we can use a much more efficient `extract` function, which operates on a list of documents:\n",
    "Because the dataset is small, we can extract all data at once and keep it in memory:"
   ],
   "metadata": {}
  },
  {
   "outputs": [
    {
     "output_type": "execute_result",
     "data": {
      "text/plain": "\u001b[34mProductNode\u001b[39m\u001b[90m\u001b[3m  100 obs\u001b[23m\u001b[39m\n\u001b[34m  ├─── lumo: \u001b[39m\u001b[39mArrayNode(99×100 OneHotArray with Bool elements)\u001b[90m\u001b[3m  100 obs\u001b[23m\u001b[39m\n\u001b[34m  ├─── inda: \u001b[39m\u001b[39mArrayNode(2×100 OneHotArray with Bool elements)\u001b[90m\u001b[3m  100 obs\u001b[23m\u001b[39m\n\u001b[34m  ├─── logp: \u001b[39m\u001b[39mArrayNode(63×100 OneHotArray with Bool elements)\u001b[90m\u001b[3m  100 obs\u001b[23m\u001b[39m\n\u001b[34m  ├─── ind1: \u001b[39m\u001b[39mArrayNode(3×100 OneHotArray with Bool elements)\u001b[90m\u001b[3m  100 obs\u001b[23m\u001b[39m\n\u001b[34m  ╰── atoms: \u001b[39m\u001b[31mBagNode\u001b[39m\u001b[90m\u001b[3m  100 obs\u001b[23m\u001b[39m\n\u001b[34m             \u001b[39m\u001b[31m  ╰── \u001b[39m\u001b[32mProductNode\u001b[39m\u001b[90m\u001b[3m  2529 obs\u001b[23m\u001b[39m\n\u001b[34m             \u001b[39m\u001b[31m      \u001b[39m\u001b[32m  ├──── element: \u001b[39m\u001b[39mArrayNode(7×2529 OneHotArray with Bool ele \u001b[90m⋯\u001b[39m\n\u001b[34m             \u001b[39m\u001b[31m      \u001b[39m\u001b[32m  ├────── bonds: \u001b[39m\u001b[33mBagNode\u001b[39m\u001b[90m\u001b[3m  2529 obs\u001b[23m\u001b[39m\n\u001b[34m             \u001b[39m\u001b[31m      \u001b[39m\u001b[32m  │              \u001b[39m\u001b[33m  ╰── \u001b[39m\u001b[36mProductNode\u001b[39m\u001b[90m\u001b[3m  5402 obs\u001b[23m\u001b[39m\n\u001b[34m             \u001b[39m\u001b[31m      \u001b[39m\u001b[32m  │              \u001b[39m\u001b[33m      \u001b[39m\u001b[36m  ┊\u001b[39m\n\u001b[34m             \u001b[39m\u001b[31m      \u001b[39m\u001b[32m  ├───── charge: \u001b[39m\u001b[39mArrayNode(1×2529 Array with Float32 elemen \u001b[90m⋯\u001b[39m\n\u001b[34m             \u001b[39m\u001b[31m      \u001b[39m\u001b[32m  ╰── atom_type: \u001b[39m\u001b[39mArrayNode(29×2529 OneHotArray with Bool el \u001b[90m⋯\u001b[39m"
     },
     "metadata": {},
     "execution_count": 11
    }
   ],
   "cell_type": "code",
   "source": [
    "x_train = extract(e, jss_train);\n",
    "x_test = extract(e, jss_test);\n",
    "x_train"
   ],
   "metadata": {},
   "execution_count": 11
  },
  {
   "cell_type": "markdown",
   "source": [
    "Then we create an encoding model capable of embedding each JSON document into a fixed-size vector."
   ],
   "metadata": {}
  },
  {
   "outputs": [
    {
     "output_type": "execute_result",
     "data": {
      "text/plain": "\u001b[34mProductModel ↦ Dense(50 => 10)\u001b[39m\u001b[90m\u001b[3m  2 arrays, 510 params, 2.078 KiB\u001b[23m\u001b[39m\n\u001b[34m  ├─── lumo: \u001b[39m\u001b[39mArrayModel(Dense(99 => 10))\u001b[90m\u001b[3m  2 arrays, 1_000 params, 3.992 KiB\u001b[23m\u001b[39m\n\u001b[34m  ├─── inda: \u001b[39m\u001b[39mArrayModel(Dense(2 => 10))\u001b[90m\u001b[3m  2 arrays, 30 params, 208 bytes\u001b[23m\u001b[39m\n\u001b[34m  ├─── logp: \u001b[39m\u001b[39mArrayModel(Dense(63 => 10))\u001b[90m\u001b[3m  2 arrays, 640 params, 2.586 KiB\u001b[23m\u001b[39m\n\u001b[34m  ├─── ind1: \u001b[39m\u001b[39mArrayModel(Dense(3 => 10))\u001b[90m\u001b[3m  2 arrays, 40 params, 248 bytes\u001b[23m\u001b[39m\n\u001b[34m  ╰── atoms: \u001b[39m\u001b[31mBagModel ↦ BagCount([SegmentedMean(10); SegmentedMax(10)]) ↦ Dens \u001b[39m\u001b[90m⋯\u001b[39m\n\u001b[34m             \u001b[39m\u001b[31m  ╰── \u001b[39m\u001b[32mProductModel ↦ Dense(31 => 10)\u001b[39m\u001b[90m\u001b[3m  2 arrays, 320 params, 1.336 \u001b[23m\u001b[39m\u001b[90m⋯\u001b[39m\n\u001b[34m             \u001b[39m\u001b[31m      \u001b[39m\u001b[32m  ├──── element: \u001b[39m\u001b[39mArrayModel(Dense(7 => 10))\u001b[90m\u001b[3m  2 arrays, 80 p \u001b[23m\u001b[39m\u001b[90m⋯\u001b[39m\n\u001b[34m             \u001b[39m\u001b[31m      \u001b[39m\u001b[32m  ├────── bonds: \u001b[39m\u001b[33mBagModel ↦ BagCount([SegmentedMean(10); Se \u001b[39m\u001b[90m⋯\u001b[39m\n\u001b[34m             \u001b[39m\u001b[31m      \u001b[39m\u001b[32m  │              \u001b[39m\u001b[33m  ╰── \u001b[39m\u001b[36mProductModel ↦ Dense(31 => 10)\u001b[39m\u001b[90m\u001b[3m  2 ar \u001b[23m\u001b[39m\u001b[90m⋯\u001b[39m\n\u001b[34m             \u001b[39m\u001b[31m      \u001b[39m\u001b[32m  │              \u001b[39m\u001b[33m      \u001b[39m\u001b[36m  ┊\u001b[39m\n\u001b[34m             \u001b[39m\u001b[31m      \u001b[39m\u001b[32m  ├───── charge: \u001b[39m\u001b[39mArrayModel(identity)\n\u001b[34m             \u001b[39m\u001b[31m      \u001b[39m\u001b[32m  ╰── atom_type: \u001b[39m\u001b[39mArrayModel(Dense(29 => 10))\u001b[90m\u001b[3m  2 arrays, 300 \u001b[23m\u001b[39m\u001b[90m⋯\u001b[39m"
     },
     "metadata": {},
     "execution_count": 12
    }
   ],
   "cell_type": "code",
   "source": [
    "encoder = reflectinmodel(sch, e)"
   ],
   "metadata": {},
   "execution_count": 12
  },
  {
   "cell_type": "markdown",
   "source": [
    "For further details about `reflectinmodel`, see the [Mill.jl documentation](https://CTUAvastLab.github.io/Mill.jl/stable/manual/reflectin/#Model-Reflection)."
   ],
   "metadata": {}
  },
  {
   "cell_type": "markdown",
   "source": [
    "Finally, we chain the `encoder` with one more dense layer computing the logit of mutagenic probability:"
   ],
   "metadata": {}
  },
  {
   "outputs": [
    {
     "output_type": "execute_result",
     "data": {
      "text/plain": "vec ∘ Dense(10 => 1) ∘ ProductModel ↦ Dense(50 => 10)"
     },
     "metadata": {},
     "execution_count": 13
    }
   ],
   "cell_type": "code",
   "source": [
    "model = vec ∘ Dense(10, 1) ∘ encoder"
   ],
   "metadata": {},
   "execution_count": 13
  },
  {
   "cell_type": "markdown",
   "source": [
    "We can train the model in the standard [`Flux.jl`](https://fluxml.ai) way. We define the loss\n",
    "function, optimizer, and minibatch iterator:"
   ],
   "metadata": {}
  },
  {
   "outputs": [],
   "cell_type": "code",
   "source": [
    "pred(m, x) = σ.(m(x))\n",
    "loss(m, x, y) = Flux.Losses.logitbinarycrossentropy(m(x), y);\n",
    "opt_state = Flux.setup(Flux.Optimise.Descent(), model);\n",
    "minibatch_iterator = Flux.DataLoader((x_train, y_train), batchsize=32, shuffle=true);"
   ],
   "metadata": {},
   "execution_count": 14
  },
  {
   "cell_type": "markdown",
   "source": [
    "We train for 10 epochs, and after each epoch we report the training accuracy:"
   ],
   "metadata": {}
  },
  {
   "outputs": [
    {
     "name": "stdout",
     "output_type": "stream",
     "text": [
      "┌ Info: Epoch 1\n",
      "└   accuracy = 0.61\n",
      "┌ Info: Epoch 2\n",
      "└   accuracy = 0.63\n",
      "┌ Info: Epoch 3\n",
      "└   accuracy = 0.64\n",
      "┌ Info: Epoch 4\n",
      "└   accuracy = 0.74\n",
      "┌ Info: Epoch 5\n",
      "└   accuracy = 0.61\n",
      "┌ Info: Epoch 6\n",
      "└   accuracy = 0.82\n",
      "┌ Info: Epoch 7\n",
      "└   accuracy = 0.82\n",
      "┌ Info: Epoch 8\n",
      "└   accuracy = 0.84\n",
      "┌ Info: Epoch 9\n",
      "└   accuracy = 0.82\n",
      "┌ Info: Epoch 10\n",
      "└   accuracy = 0.82\n"
     ]
    }
   ],
   "cell_type": "code",
   "source": [
    "accuracy(p, y) = mean((p .> 0.5) .== y)\n",
    "for i in 1:10\n",
    "    Flux.train!(loss, model, minibatch_iterator, opt_state)\n",
    "    @info \"Epoch $i\" accuracy=accuracy(pred(model, x_train), y_train)\n",
    "end"
   ],
   "metadata": {},
   "execution_count": 15
  },
  {
   "cell_type": "markdown",
   "source": [
    "We can compute the accuracy on the testing set now:"
   ],
   "metadata": {}
  },
  {
   "outputs": [
    {
     "output_type": "execute_result",
     "data": {
      "text/plain": "0.8636363636363636"
     },
     "metadata": {},
     "execution_count": 16
    }
   ],
   "cell_type": "code",
   "source": [
    "accuracy(pred(model, x_test), y_test)"
   ],
   "metadata": {},
   "execution_count": 16
  },
  {
   "cell_type": "markdown",
   "source": [
    "---\n",
    "\n",
    "*This notebook was generated using [Literate.jl](https://github.com/fredrikekre/Literate.jl).*"
   ],
   "metadata": {}
  }
 ],
 "nbformat_minor": 3,
 "metadata": {
  "language_info": {
   "file_extension": ".jl",
   "mimetype": "application/julia",
   "name": "julia",
   "version": "1.11.2"
  },
  "kernelspec": {
   "name": "julia-1.11",
   "display_name": "Julia 1.11.2",
   "language": "julia"
  }
 },
 "nbformat": 4
}
