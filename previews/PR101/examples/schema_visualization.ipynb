{
 "cells": [
  {
   "cell_type": "markdown",
   "source": [
    "# Schema Visualization\n",
    "In this example we show how can schema be turned into HTML interactive visualization, which helps to examine the schema,\n",
    "especially when dealing with large and heterogeneous data."
   ],
   "metadata": {}
  },
  {
   "cell_type": "markdown",
   "source": [
    "We start by installing JsonGrinder and few other packages we need for the example.\n",
    "Julia Ecosystem follows philosophy of many small single-purpose composable packages\n",
    "which may be different from e.g. python where we usually use fewer larger packages."
   ],
   "metadata": {}
  },
  {
   "outputs": [
    {
     "name": "stdout",
     "output_type": "stream",
     "text": [
      "    Updating git-repo `https://github.com/CTUAvastLab/JsonGrinder.jl.git`\n",
      "   Resolving package versions...\n",
      "  No Changes to `~/work/JsonGrinder.jl/JsonGrinder.jl/docs/Project.toml`\n",
      "  No Changes to `~/work/JsonGrinder.jl/JsonGrinder.jl/docs/Manifest.toml`\n"
     ]
    }
   ],
   "cell_type": "code",
   "source": [
    "using Pkg\n",
    "pkg\"add JsonGrinder#master JSON\""
   ],
   "metadata": {},
   "execution_count": 1
  },
  {
   "cell_type": "markdown",
   "source": [
    "We include packages we want to use."
   ],
   "metadata": {}
  },
  {
   "outputs": [],
   "cell_type": "code",
   "source": [
    "using JsonGrinder, JSON\n",
    "import JsonGrinder: generate_html"
   ],
   "metadata": {},
   "execution_count": 2
  },
  {
   "cell_type": "markdown",
   "source": [
    "Now we load all samples"
   ],
   "metadata": {}
  },
  {
   "outputs": [],
   "cell_type": "code",
   "source": [
    "data_file = \"../../../data/recipes.json\"\n",
    "samples_str = open(data_file) do fid\n",
    "\tread(fid, String)\n",
    "end;"
   ],
   "metadata": {},
   "execution_count": 3
  },
  {
   "cell_type": "markdown",
   "source": [
    "We parse them to structures"
   ],
   "metadata": {}
  },
  {
   "outputs": [],
   "cell_type": "code",
   "source": [
    "samples = convert(Vector{Dict}, JSON.parse(samples_str));"
   ],
   "metadata": {},
   "execution_count": 4
  },
  {
   "cell_type": "markdown",
   "source": [
    "Print example of the JSON"
   ],
   "metadata": {}
  },
  {
   "outputs": [
    {
     "name": "stdout",
     "output_type": "stream",
     "text": [
      "{\n",
      "  \"id\": 10259,\n",
      "  \"ingredients\": [\n",
      "    \"romaine lettuce\",\n",
      "    \"black olives\",\n",
      "    \"grape tomatoes\",\n",
      "    \"garlic\",\n",
      "    \"pepper\",\n",
      "    \"purple onion\",\n",
      "    \"seasoning\",\n",
      "    \"garbanzo beans\",\n",
      "    \"feta cheese crumbles\"\n",
      "  ],\n",
      "  \"cuisine\": \"greek\"\n",
      "}\n"
     ]
    }
   ],
   "cell_type": "code",
   "source": [
    "JSON.print(samples[1],2)"
   ],
   "metadata": {},
   "execution_count": 5
  },
  {
   "cell_type": "markdown",
   "source": [
    "We create schema from all samples"
   ],
   "metadata": {}
  },
  {
   "outputs": [
    {
     "output_type": "execute_result",
     "data": {
      "text/plain": "\u001b[34m[Dict]\u001b[39m\u001b[90m \t# updated = 39774\u001b[39m\n\u001b[34m  ├─────────── id: \u001b[39m\u001b[39m[Scalar - Int64], 10000 unique values\u001b[90m \t# updated = 39774\u001b[39m\n\u001b[34m  ├────── cuisine: \u001b[39m\u001b[39m[Scalar - String], 20 unique values\u001b[90m \t# updated = 39774\u001b[39m\n\u001b[34m  └── ingredients: \u001b[39m\u001b[31m[List]\u001b[39m\u001b[90m \t# updated = 39774\u001b[39m\n\u001b[34m                   \u001b[39m\u001b[31m  └── \u001b[39m\u001b[39m[Scalar - String], 6714 unique values\u001b[90m \t# updated = 428275\u001b[39m"
     },
     "metadata": {},
     "execution_count": 6
    }
   ],
   "cell_type": "code",
   "source": [
    "sch = JsonGrinder.schema(samples)"
   ],
   "metadata": {},
   "execution_count": 6
  },
  {
   "cell_type": "markdown",
   "source": [
    "Now we can generate the html visualization into a file, keeping only 100 unique values per item"
   ],
   "metadata": {}
  },
  {
   "outputs": [
    {
     "output_type": "execute_result",
     "data": {
      "text/plain": "11484"
     },
     "metadata": {},
     "execution_count": 7
    }
   ],
   "cell_type": "code",
   "source": [
    "generate_html(\"recipes_max_vals=100.html\", sch, max_vals=100)"
   ],
   "metadata": {},
   "execution_count": 7
  },
  {
   "cell_type": "markdown",
   "source": [
    "Or we can generate html, keeping all values from schema."
   ],
   "metadata": {}
  },
  {
   "outputs": [
    {
     "output_type": "execute_result",
     "data": {
      "text/plain": "490993"
     },
     "metadata": {},
     "execution_count": 8
    }
   ],
   "cell_type": "code",
   "source": [
    "generate_html(\"recipes.html\", sch, max_vals=nothing)"
   ],
   "metadata": {},
   "execution_count": 8
  },
  {
   "cell_type": "markdown",
   "source": [
    "If we omit the first argument, we will get the html as a string"
   ],
   "metadata": {}
  },
  {
   "outputs": [],
   "cell_type": "code",
   "source": [
    "generated_html = generate_html(sch, max_vals = 100);"
   ],
   "metadata": {},
   "execution_count": 9
  },
  {
   "cell_type": "markdown",
   "source": [
    "Now we can look at the visualization"
   ],
   "metadata": {}
  },
  {
   "outputs": [
    {
     "output_type": "execute_result",
     "data": {
      "text/plain": "\"\\t<!DOCTYPE html>\\n\\t<html lang=\\\"en\\\">\\n\\t<head>\\n    \\t<meta charset=\\\"UTF-8\\\">\\n    \\t<title>Json schema dump</title>\\n    \\t<style>\\n        \\tul, .top_dict {/* Remove default bullets */\\n            \\tlist-style-type: none;\\n        \\t}\\n        \\t.top_dict {/* Remove margins and padding from the parent ul */\\n            \\tmargin: 0;\\n            \\tpadding: 0;\\n        \\t}\\n        \\t.caret {/* Style the caret/arrow */\\n            \\tcursor: pointer;\\n            \\tuser-select: none; /* Prevent text selection */\\n        \\t}\\n        \\t.caret::before {/* Create the caret/arrow with a unicode, and style it */\\n            \\tcontent: \\\"\\\\25B6\\\";\\n            \\tcolor: black;\\n            \\tdisplay: inline-block;\\n            \\tmargin-right: 6px;\\n        \\t}\\n        \\t.caret-down::before {/* Rotate the caret/arrow icon when clicked on (using JavaScript) */\\n            \\ttransform: rotate(90deg);\\n        \\t}\\n            .nested { /* Hide the nested list */\\n                display: none;\\n            }\\n            .active { /* Show the nested list when the user clicks on the caret/arrow (with JavaScript) */\\n                display: block;\\n            }\\n            label { /* Style the label */\\n                cursor: pointer;\\n            }\\n            #show_block {\\n                position: absolute;\\n                right: 5%;\\n            }\\n    \\t</style>\\n\\t\\t</head>\\n\\t\\t<body>\\n\\t\\t<div id=\\\"show_block\\\">\\n\\t\\t    <div id=\\\"selectors_output\\\"></div>\\n\\t\\t    <button type=\\\"button\\\" id=\\\"copy_clipboard\\\">Copy selectors to clipboard</button>\\n\\t\\t</div>\\n\\t\\t<ul class=\\\"top_dict\\\" style=\\\"color: #4E79A7\\\">[Dict] (updated=39774)\\n  <li><span class=\\\"caret\\\">cuisine</span> - <label>[:cuisine]<input type=\\\"checkbox\\\" name=\\\"[:cuisine]\\\" value=\\\"[:cuisine]\\\"></label>\\n    <ul class=\\\"nested\\\" style=\\\"color: #E15759\\\">    [Scalar - String], 20 unique values,\\n(updated=39774, filled=100.00%, min=brazilian: 467, max=italian: 7838)\\n      <li>italian: 7838</li>\\n      <li>mexican: 6438</li>\\n      <li>southern_us: 4320</li>\\n      <li>indian: 3003</li>\\n      <li>chinese: 2673</li>\\n      <li>french: 2646</li>\\n      <li>cajun_creole: 1546</li>\\n      <li>thai: 1539</li>\\n      <li>japanese: 1423</li>\\n      <li>greek: 1175</li>\\n      <li>spanish: 989</li>\\n      <li>korean: 830</li>\\n      <li>vietnamese: 825</li>\\n      <li>moroccan: 821</li>\\n      <li>british: 804</li>\\n      <li>filipino: 755</li>\\n      <li>irish: 667</li>\\n      <li>jamaican: 526</li>\\n      <li>russian: 489</li>\\n      <li>brazilian: 467</li>\\n     </ul>\\n  </li>\\n  <li><span class=\\\"caret\\\">id</span> - <label>[:id]<input type=\\\"checkbox\\\" name=\\\"[:id]\\\" value=\\\"[:id]\\\"></label>\\n    <ul class=\\\"nested\\\" style=\\\"color: #E15759\\\">    [Scalar - Int64], 10000 unique values,\\n(updated=39774, filled=100.00%, min=41850: 1, max=23593: 1)\\n      <li>23593: 1</li>\\n      <li>37819: 1</li>\\n      <li>29454: 1</li>\\n      <li>11950: 1</li>\\n      <li>45120: 1</li>\\n      <li>12778: 1</li>\\n      <li>10548: 1</li>\\n      <li>1956: 1</li>\\n      <li>12427: 1</li>\\n      <li>42582: 1</li>\\n      <li>41222: 1</li>\\n      <li>27167: 1</li>\\n      <li>36280: 1</li>\\n      <li>47428: 1</li>\\n      <li>39471: 1</li>\\n      <li>38919: 1</li>\\n      <li>16797: 1</li>\\n      <li>29579: 1</li>\\n      <li>28900: 1</li>\\n      <li>37780: 1</li>\\n      <li>7353: 1</li>\\n      <li>48361: 1</li>\\n      <li>18139: 1</li>\\n      <li>46927: 1</li>\\n      <li>17925: 1</li>\\n      <li>36992: 1</li>\\n      <li>33594: 1</li>\\n      <li>12255: 1</li>\\n      <li>11280: 1</li>\\n      <li>28025: 1</li>\\n      <li>46806: 1</li>\\n      <li>14804: 1</li>\\n      <li>21896: 1</li>\\n      <li>29702: 1</li>\\n      <li>37160: 1</li>\\n      <li>33390: 1</li>\\n      <li>1823: 1</li>\\n      <li>17853: 1</li>\\n      <li>33003: 1</li>\\n      <li>16984: 1</li>\\n      <li>11373: 1</li>\\n      <li>33489: 1</li>\\n      <li>5435: 1</li>\\n      <li>6706: 1</li>\\n      <li>3646: 1</li>\\n      <li>49672: 1</li>\\n      <li>13701: 1</li>\\n      <li>47586: 1</li>\\n      <li>28505: 1</li>\\n      <li>12322: 1</li>\\n      <li>3163: 1</li>\\n      <li>46481: 1</li>\\n      <li>31634: 1</li>\\n      <li>16341: 1</li>\\n      <li>23629: 1</li>\\n      <li>35305: 1</li>\\n      <li>37033: 1</li>\\n      <li>22241: 1</li>\\n      <li>35395: 1</li>\\n      <li>37258: 1</li>\\n      <li>47577: 1</li>\\n      <li>47032: 1</li>\\n      <li>5640: 1</li>\\n      <li>47726: 1</li>\\n      <li>46400: 1</li>\\n      <li>31831: 1</li>\\n      <li>35526: 1</li>\\n      <li>47339: 1</li>\\n      <li>27819: 1</li>\\n      <li>366: 1</li>\\n      <li>37890: 1</li>\\n      <li>27617: 1</li>\\n      <li>9329: 1</li>\\n      <li>40964: 1</li>\\n      <li>19588: 1</li>\\n      <li>33968: 1</li>\\n      <li>18219: 1</li>\\n      <li>79: 1</li>\\n      <li>19391: 1</li>\\n      <li>9374: 1</li>\\n      <li>49378: 1</li>\\n      <li>44623: 1</li>\\n      <li>41931: 1</li>\\n      <li>12795: 1</li>\\n      <li>33642: 1</li>\\n      <li>23214: 1</li>\\n      <li>40228: 1</li>\\n      <li>45920: 1</li>\\n      <li>28442: 1</li>\\n      <li>5001: 1</li>\\n      <li>19448: 1</li>\\n      <li>6515: 1</li>\\n      <li>15982: 1</li>\\n      <li>11775: 1</li>\\n      <li>24042: 1</li>\\n      <li>32017: 1</li>\\n      <li>40725: 1</li>\\n      <li>21512: 1</li>\\n      <li>25196: 1</li>\\n      <li>7560: 1</li>\\n      <li>and other 9900 values</li>\\n     </ul>\\n  </li>\\n  <li><span class=\\\"caret\\\">ingredients</span> - <label>[:ingredients]<input type=\\\"checkbox\\\" name=\\\"[:ingredients]\\\" value=\\\"[:ingredients]\\\"></label>\\n    <ul class=\\\"nested\\\" style=\\\"color: #E15759\\\">[List] (updated=39774, filled=100.00%, mean=10.77,\\nmin=1, max=65, 10th percentile=6.0, median=10.0, 90th percentile=17.0)\\n    <li><span class=\\\"caret\\\">with following frequencies</span>\\n    <ul class=\\\"nested\\\">\\n      <li>1: 22</li>\\n      <li>2: 193</li>\\n      <li>3: 549</li>\\n      <li>4: 1128</li>\\n      <li>5: 1891</li>\\n      <li>6: 2662</li>\\n      <li>7: 3329</li>\\n      <li>8: 3556</li>\\n      <li>9: 3753</li>\\n      <li>10: 3677</li>\\n      <li>11: 3512</li>\\n      <li>12: 3146</li>\\n      <li>13: 2698</li>\\n      <li>14: 2253</li>\\n      <li>15: 1809</li>\\n      <li>16: 1439</li>\\n      <li>17: 1160</li>\\n      <li>18: 879</li>\\n      <li>19: 610</li>\\n      <li>20: 504</li>\\n      <li>21: 313</li>\\n      <li>22: 218</li>\\n      <li>23: 141</li>\\n      <li>24: 91</li>\\n      <li>25: 72</li>\\n      <li>26: 46</li>\\n      <li>27: 20</li>\\n      <li>28: 27</li>\\n      <li>29: 21</li>\\n      <li>30: 15</li>\\n      <li>31: 11</li>\\n      <li>32: 4</li>\\n      <li>33: 4</li>\\n      <li>34: 3</li>\\n      <li>35: 3</li>\\n      <li>36: 4</li>\\n      <li>38: 2</li>\\n      <li>40: 3</li>\\n      <li>43: 1</li>\\n      <li>49: 2</li>\\n      <li>52: 1</li>\\n      <li>59: 1</li>\\n      <li>65: 1</li>\\n    </ul>\\n    </li>\\n    <li><span class=\\\"caret\\\">and data</span>\\n      <ul class=\\\"nested\\\" style=\\\"color: #76B7B2\\\">      [Scalar - String], 6714 unique values,\\n(updated=428275, min=pecan meal: 1, max=salt: 18049)\\n        <li>salt: 18049</li>\\n        <li>onions: 7972</li>\\n        <li>olive oil: 7972</li>\\n        <li>water: 7457</li>\\n        <li>garlic: 7380</li>\\n        <li>sugar: 6434</li>\\n        <li>garlic cloves: 6237</li>\\n        <li>butter: 4848</li>\\n        <li>ground black pepper: 4785</li>\\n        <li>all-purpose flour: 4632</li>\\n        <li>pepper: 4438</li>\\n        <li>vegetable oil: 4385</li>\\n        <li>eggs: 3388</li>\\n        <li>soy sauce: 3296</li>\\n        <li>kosher salt: 3113</li>\\n        <li>green onions: 3078</li>\\n        <li>tomatoes: 3058</li>\\n        <li>large eggs: 2948</li>\\n        <li>carrots: 2814</li>\\n        <li>unsalted butter: 2782</li>\\n        <li>extra-virgin olive oil: 2747</li>\\n        <li>ground cumin: 2747</li>\\n        <li>black pepper: 2627</li>\\n        <li>milk: 2263</li>\\n        <li>chili powder: 2036</li>\\n        <li>oil: 1970</li>\\n        <li>red bell pepper: 1939</li>\\n        <li>purple onion: 1896</li>\\n        <li>scallions: 1891</li>\\n        <li>grated parmesan cheese: 1886</li>\\n        <li>sesame oil: 1773</li>\\n        <li>corn starch: 1757</li>\\n        <li>ginger: 1755</li>\\n        <li>baking powder: 1738</li>\\n        <li>jalapeno chilies: 1730</li>\\n        <li>dried oregano: 1707</li>\\n        <li>chopped cilantro fresh: 1698</li>\\n        <li>fresh lemon juice: 1679</li>\\n        <li>diced tomatoes: 1624</li>\\n        <li>fresh parsley: 1604</li>\\n        <li>minced garlic: 1583</li>\\n        <li>chicken broth: 1554</li>\\n        <li>sour cream: 1539</li>\\n        <li>cayenne pepper: 1523</li>\\n        <li>fresh ginger: 1503</li>\\n        <li>brown sugar: 1503</li>\\n        <li>cooking spray: 1490</li>\\n        <li>shallots: 1477</li>\\n        <li>garlic powder: 1442</li>\\n        <li>lime: 1439</li>\\n        <li>lemon juice: 1395</li>\\n        <li>fresh lime juice: 1368</li>\\n        <li>flour: 1348</li>\\n        <li>honey: 1299</li>\\n        <li>vanilla extract: 1298</li>\\n        <li>paprika: 1287</li>\\n        <li>chopped onion: 1251</li>\\n        <li>fish sauce: 1247</li>\\n        <li>ground cinnamon: 1231</li>\\n        <li>avocado: 1229</li>\\n        <li>canola oil: 1223</li>\\n        <li>dry white wine: 1218</li>\\n        <li>lemon: 1218</li>\\n        <li>rice vinegar: 1204</li>\\n        <li>yellow onion: 1184</li>\\n        <li>green bell pepper: 1180</li>\\n        <li>cilantro leaves: 1160</li>\\n        <li>tomato paste: 1158</li>\\n        <li>heavy cream: 1146</li>\\n        <li>cilantro: 1142</li>\\n        <li>fresh basil: 1137</li>\\n        <li>boneless skinless chicken breasts: 1111</li>\\n        <li>flat leaf parsley: 1094</li>\\n        <li>white sugar: 1093</li>\\n        <li>lime juice: 1072</li>\\n        <li>chicken stock: 1039</li>\\n        <li>bay leaves: 1036</li>\\n        <li>potatoes: 1018</li>\\n        <li>chicken: 982</li>\\n        <li>corn tortillas: 965</li>\\n        <li>salsa: 963</li>\\n        <li>cumin: 953</li>\\n        <li>ground turmeric: 949</li>\\n        <li>freshly ground pepper: 949</li>\\n        <li>baking soda: 942</li>\\n        <li>sea salt: 940</li>\\n        <li>cumin seed: 935</li>\\n        <li>garam masala: 925</li>\\n        <li>shrimp: 912</li>\\n        <li>black beans: 896</li>\\n        <li>zucchini: 892</li>\\n        <li>ground beef: 878</li>\\n        <li>dried thyme: 873</li>\\n        <li>large garlic cloves: 873</li>\\n        <li>tomato sauce: 865</li>\\n        <li>flour tortillas: 865</li>\\n        <li>buttermilk: 863</li>\\n        <li>plum tomatoes: 858</li>\\n        <li>coconut milk: 854</li>\\n        <li>granulated sugar: 849</li>\\n        <li>and other 6614 values</li>\\n       </ul>\\n    </li>\\n    </ul>\\n  </li>\\n</ul>\\n\\n<script>\\n\\ndocument.querySelectorAll(\\\".caret\\\").forEach((toggler, index) => {\\n\\t// I need anonymous function, not arrow function, to preserve the context\\n\\ttoggler.addEventListener(\\\"click\\\", function() {\\n\\t\\tthis.parentElement.querySelector(\\\".nested\\\").classList.toggle(\\\"active\\\");\\n\\t\\tthis.classList.toggle(\\\"caret-down\\\");\\n\\t});\\n});\\n\\ndocument.querySelectorAll(\\\"label > input[type=checkbox]\\\").forEach((toggler, index) => {\\n// I need anonymous function, not arrow function, to preserve the context\\n\\ttoggler.addEventListener(\\\"change\\\", function() {\\n\\t\\tdocument.getElementById(\\\"selectors_output\\\").innerHTML = Array\\n\\t\\t\\t.from(document.querySelectorAll(\\\"label > input[type=checkbox]:checked\\\"))\\n\\t\\t\\t.map(x => x.parentElement.textContent).join(\\\"<br/>\\\");\\n\\t});\\n});\\n\\ndocument.getElementById(\\\"copy_clipboard\\\").addEventListener(\\\"click\\\", () => {\\n\\tlet range = document.createRange();\\n\\trange.selectNode(document.getElementById(\\\"selectors_output\\\"));\\n\\twindow.getSelection().removeAllRanges(); // clear current selection\\n\\twindow.getSelection().addRange(range); // to select text\\n\\tdocument.execCommand(\\\"copy\\\");\\n\\twindow.getSelection().removeAllRanges();// to deselect\\n});\\n</script>\\n</body>\\n</html>\\n\""
     },
     "metadata": {},
     "execution_count": 10
    }
   ],
   "cell_type": "code",
   "source": [
    "generated_html"
   ],
   "metadata": {},
   "execution_count": 10
  },
  {
   "cell_type": "markdown",
   "source": [
    "If you like, you may use the Electron to open it in browser.\n",
    "using the following code (this works if you run it from REPL, but not from jupyter notebook or in CI)\n",
    "```julia\n",
    "using ElectronDisplay\n",
    "using ElectronDisplay: newdisplay\n",
    "display(newdisplay(), MIME{Symbol(\"text/html\")}(), generated_html)\n",
    "```"
   ],
   "metadata": {}
  },
  {
   "cell_type": "markdown",
   "source": [
    "---\n",
    "\n",
    "*This notebook was generated using [Literate.jl](https://github.com/fredrikekre/Literate.jl).*"
   ],
   "metadata": {}
  }
 ],
 "nbformat_minor": 3,
 "metadata": {
  "language_info": {
   "file_extension": ".jl",
   "mimetype": "application/julia",
   "name": "julia",
   "version": "1.6.4"
  },
  "kernelspec": {
   "name": "julia-1.6",
   "display_name": "Julia 1.6.4",
   "language": "julia"
  }
 },
 "nbformat": 4
}
